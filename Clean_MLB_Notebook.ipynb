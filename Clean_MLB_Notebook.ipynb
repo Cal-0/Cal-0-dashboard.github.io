{
  "nbformat": 4,
  "nbformat_minor": 0,
  "metadata": {
    "colab": {
      "name": "Clean MLB Notebook.ipynb",
      "provenance": [],
      "include_colab_link": true
    },
    "kernelspec": {
      "name": "python3",
      "display_name": "Python 3"
    }
  },
  "cells": [
    {
      "cell_type": "markdown",
      "metadata": {
        "id": "view-in-github",
        "colab_type": "text"
      },
      "source": [
        "<a href=\"https://colab.research.google.com/github/Cal-0/Cal-0-dashboard.github.io/blob/master/Clean_MLB_Notebook.ipynb\" target=\"_parent\"><img src=\"https://colab.research.google.com/assets/colab-badge.svg\" alt=\"Open In Colab\"/></a>"
      ]
    },
    {
      "cell_type": "code",
      "metadata": {
        "id": "TQDNLUkY1AWB",
        "colab_type": "code",
        "colab": {}
      },
      "source": [
        "# Import the tools you will need\n",
        "import pandas as pd\n",
        "import numpy as np\n",
        "import matplotlib.pyplot as plt"
      ],
      "execution_count": 0,
      "outputs": []
    },
    {
      "cell_type": "code",
      "metadata": {
        "id": "A_7U4gC51F_K",
        "colab_type": "code",
        "colab": {
          "base_uri": "https://localhost:8080/",
          "height": 208
        },
        "outputId": "e742f8c7-89aa-4b77-9a35-e3e3c5f8d5a0"
      },
      "source": [
        "# Install so the notebook can navigate Kaggle\n",
        "!pip install kaggle"
      ],
      "execution_count": 64,
      "outputs": [
        {
          "output_type": "stream",
          "text": [
            "Requirement already satisfied: kaggle in /usr/local/lib/python3.6/dist-packages (1.5.6)\n",
            "Requirement already satisfied: urllib3<1.25,>=1.21.1 in /usr/local/lib/python3.6/dist-packages (from kaggle) (1.24.3)\n",
            "Requirement already satisfied: python-dateutil in /usr/local/lib/python3.6/dist-packages (from kaggle) (2.6.1)\n",
            "Requirement already satisfied: requests in /usr/local/lib/python3.6/dist-packages (from kaggle) (2.21.0)\n",
            "Requirement already satisfied: python-slugify in /usr/local/lib/python3.6/dist-packages (from kaggle) (4.0.0)\n",
            "Requirement already satisfied: tqdm in /usr/local/lib/python3.6/dist-packages (from kaggle) (4.28.1)\n",
            "Requirement already satisfied: six>=1.10 in /usr/local/lib/python3.6/dist-packages (from kaggle) (1.12.0)\n",
            "Requirement already satisfied: certifi in /usr/local/lib/python3.6/dist-packages (from kaggle) (2019.9.11)\n",
            "Requirement already satisfied: idna<2.9,>=2.5 in /usr/local/lib/python3.6/dist-packages (from requests->kaggle) (2.8)\n",
            "Requirement already satisfied: chardet<3.1.0,>=3.0.2 in /usr/local/lib/python3.6/dist-packages (from requests->kaggle) (3.0.4)\n",
            "Requirement already satisfied: text-unidecode>=1.3 in /usr/local/lib/python3.6/dist-packages (from python-slugify->kaggle) (1.3)\n"
          ],
          "name": "stdout"
        }
      ]
    },
    {
      "cell_type": "code",
      "metadata": {
        "id": "H6wqYF-L1F7V",
        "colab_type": "code",
        "colab": {
          "resources": {
            "http://localhost:8080/nbextensions/google.colab/files.js": {
              "data": "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",
              "ok": true,
              "headers": [
                [
                  "content-type",
                  "application/javascript"
                ]
              ],
              "status": 200,
              "status_text": ""
            }
          },
          "base_uri": "https://localhost:8080/",
          "height": 93
        },
        "outputId": "281d74de-9892-4f53-de0a-2bd346915c55"
      },
      "source": [
        "# Upload your user authentication from your local files\n",
        "# The user scraped the data himself and I don't have permission to repuload it \n",
        "# on github. This is Kaggles solution.\n",
        "# You have to upload your Kaggle accounts API token to source the dataset\n",
        "# this link shows how https://www.youtube.com/watch?v=eEgZtNOCJhk&t=82s\n",
        "# explanation starts at 1:10\n",
        "# the file should read kaggle.json as default\n",
        "from google.colab import files\n",
        "files.upload()"
      ],
      "execution_count": 65,
      "outputs": [
        {
          "output_type": "display_data",
          "data": {
            "text/html": [
              "\n",
              "     <input type=\"file\" id=\"files-3b5fdc32-716f-47fd-8d36-f9fbc0cc420a\" name=\"files[]\" multiple disabled />\n",
              "     <output id=\"result-3b5fdc32-716f-47fd-8d36-f9fbc0cc420a\">\n",
              "      Upload widget is only available when the cell has been executed in the\n",
              "      current browser session. Please rerun this cell to enable.\n",
              "      </output>\n",
              "      <script src=\"/nbextensions/google.colab/files.js\"></script> "
            ],
            "text/plain": [
              "<IPython.core.display.HTML object>"
            ]
          },
          "metadata": {
            "tags": []
          }
        },
        {
          "output_type": "stream",
          "text": [
            "Saving kaggle.json to kaggle.json\n"
          ],
          "name": "stdout"
        },
        {
          "output_type": "execute_result",
          "data": {
            "text/plain": [
              "{'kaggle.json': b'{\"username\":\"cal456\",\"key\":\"36f580691299d63624dfae02b9dbbffc\"}'}"
            ]
          },
          "metadata": {
            "tags": []
          },
          "execution_count": 65
        }
      ]
    },
    {
      "cell_type": "code",
      "metadata": {
        "id": "eZUdj3AS1F3d",
        "colab_type": "code",
        "colab": {}
      },
      "source": [
        "# Direct the notebook to the dataset on kaggle\n",
        "!mkdir -p ~/.kaggle\n",
        "!cp kaggle.json ~/.kaggle/\n",
        "\n",
        "!chmod 600 ~/.kaggle/kaggle.json"
      ],
      "execution_count": 0,
      "outputs": []
    },
    {
      "cell_type": "code",
      "metadata": {
        "id": "YMj0UKCc1F0V",
        "colab_type": "code",
        "colab": {
          "base_uri": "https://localhost:8080/",
          "height": 69
        },
        "outputId": "93f03057-6537-44e2-e804-a10c8269112c"
      },
      "source": [
        "# Downloads the zip file from the kaggle website to the notebook\n",
        "!kaggle datasets download -d pschale/mlb-pitch-data-20152018"
      ],
      "execution_count": 67,
      "outputs": [
        {
          "output_type": "stream",
          "text": [
            "Downloading mlb-pitch-data-20152018.zip to /content\n",
            " 96% 313M/328M [00:03<00:00, 78.1MB/s]\n",
            "100% 328M/328M [00:03<00:00, 93.2MB/s]\n"
          ],
          "name": "stdout"
        }
      ]
    },
    {
      "cell_type": "code",
      "metadata": {
        "id": "FvVq4oX91FtT",
        "colab_type": "code",
        "colab": {
          "base_uri": "https://localhost:8080/",
          "height": 121
        },
        "outputId": "a8a8ba52-9e28-4e66-b820-3b6827c1a2a6"
      },
      "source": [
        "# Seperate the different Excel files into CSVs\n",
        "!unzip mlb-pitch-data-20152018.zip"
      ],
      "execution_count": 68,
      "outputs": [
        {
          "output_type": "stream",
          "text": [
            "Archive:  mlb-pitch-data-20152018.zip\n",
            "  inflating: atbats.csv              \n",
            "  inflating: ejections.csv           \n",
            "  inflating: games.csv               \n",
            "  inflating: pitches.csv             \n",
            "  inflating: player_names.csv        \n"
          ],
          "name": "stdout"
        }
      ]
    },
    {
      "cell_type": "code",
      "metadata": {
        "id": "hWiOpBcM1Fpj",
        "colab_type": "code",
        "colab": {}
      },
      "source": [
        "# Take the seperated CSVs and turn them into Pandas dataframes\n",
        "bats_df = pd.read_csv('atbats.csv')\n",
        "games_df = pd.read_csv('games.csv')\n",
        "pitches_df = pd.read_csv('pitches.csv')\n",
        "players_df = pd.read_csv('player_names.csv')"
      ],
      "execution_count": 0,
      "outputs": []
    },
    {
      "cell_type": "code",
      "metadata": {
        "id": "v0ts63uz3YG9",
        "colab_type": "code",
        "colab": {
          "base_uri": "https://localhost:8080/",
          "height": 202
        },
        "outputId": "041d4b39-b88a-4f94-a9aa-a61973e43676"
      },
      "source": [
        "# Show the head of each dataframe in order to isloate what\n",
        "# columns we want in our final dataframe\n",
        "players_df.head()"
      ],
      "execution_count": 71,
      "outputs": [
        {
          "output_type": "execute_result",
          "data": {
            "text/html": [
              "<div>\n",
              "<style scoped>\n",
              "    .dataframe tbody tr th:only-of-type {\n",
              "        vertical-align: middle;\n",
              "    }\n",
              "\n",
              "    .dataframe tbody tr th {\n",
              "        vertical-align: top;\n",
              "    }\n",
              "\n",
              "    .dataframe thead th {\n",
              "        text-align: right;\n",
              "    }\n",
              "</style>\n",
              "<table border=\"1\" class=\"dataframe\">\n",
              "  <thead>\n",
              "    <tr style=\"text-align: right;\">\n",
              "      <th></th>\n",
              "      <th>id</th>\n",
              "      <th>first_name</th>\n",
              "      <th>last_name</th>\n",
              "    </tr>\n",
              "  </thead>\n",
              "  <tbody>\n",
              "    <tr>\n",
              "      <th>0</th>\n",
              "      <td>452657</td>\n",
              "      <td>Jon</td>\n",
              "      <td>Lester</td>\n",
              "    </tr>\n",
              "    <tr>\n",
              "      <th>1</th>\n",
              "      <td>425794</td>\n",
              "      <td>Adam</td>\n",
              "      <td>Wainwright</td>\n",
              "    </tr>\n",
              "    <tr>\n",
              "      <th>2</th>\n",
              "      <td>457435</td>\n",
              "      <td>Phil</td>\n",
              "      <td>Coke</td>\n",
              "    </tr>\n",
              "    <tr>\n",
              "      <th>3</th>\n",
              "      <td>435400</td>\n",
              "      <td>Jason</td>\n",
              "      <td>Motte</td>\n",
              "    </tr>\n",
              "    <tr>\n",
              "      <th>4</th>\n",
              "      <td>519166</td>\n",
              "      <td>Neil</td>\n",
              "      <td>Ramirez</td>\n",
              "    </tr>\n",
              "  </tbody>\n",
              "</table>\n",
              "</div>"
            ],
            "text/plain": [
              "       id first_name   last_name\n",
              "0  452657        Jon      Lester\n",
              "1  425794       Adam  Wainwright\n",
              "2  457435       Phil        Coke\n",
              "3  435400      Jason       Motte\n",
              "4  519166       Neil     Ramirez"
            ]
          },
          "metadata": {
            "tags": []
          },
          "execution_count": 71
        }
      ]
    },
    {
      "cell_type": "code",
      "metadata": {
        "id": "8w6A8II93YDk",
        "colab_type": "code",
        "colab": {
          "base_uri": "https://localhost:8080/",
          "height": 222
        },
        "outputId": "3db90d40-2e4a-4444-db73-318713f29104"
      },
      "source": [
        "pitches_df.head()"
      ],
      "execution_count": 72,
      "outputs": [
        {
          "output_type": "execute_result",
          "data": {
            "text/html": [
              "<div>\n",
              "<style scoped>\n",
              "    .dataframe tbody tr th:only-of-type {\n",
              "        vertical-align: middle;\n",
              "    }\n",
              "\n",
              "    .dataframe tbody tr th {\n",
              "        vertical-align: top;\n",
              "    }\n",
              "\n",
              "    .dataframe thead th {\n",
              "        text-align: right;\n",
              "    }\n",
              "</style>\n",
              "<table border=\"1\" class=\"dataframe\">\n",
              "  <thead>\n",
              "    <tr style=\"text-align: right;\">\n",
              "      <th></th>\n",
              "      <th>px</th>\n",
              "      <th>pz</th>\n",
              "      <th>start_speed</th>\n",
              "      <th>end_speed</th>\n",
              "      <th>spin_rate</th>\n",
              "      <th>spin_dir</th>\n",
              "      <th>break_angle</th>\n",
              "      <th>break_length</th>\n",
              "      <th>break_y</th>\n",
              "      <th>ax</th>\n",
              "      <th>ay</th>\n",
              "      <th>az</th>\n",
              "      <th>sz_bot</th>\n",
              "      <th>sz_top</th>\n",
              "      <th>type_confidence</th>\n",
              "      <th>vx0</th>\n",
              "      <th>vy0</th>\n",
              "      <th>vz0</th>\n",
              "      <th>x</th>\n",
              "      <th>x0</th>\n",
              "      <th>y</th>\n",
              "      <th>y0</th>\n",
              "      <th>z0</th>\n",
              "      <th>pfx_x</th>\n",
              "      <th>pfx_z</th>\n",
              "      <th>nasty</th>\n",
              "      <th>zone</th>\n",
              "      <th>code</th>\n",
              "      <th>type</th>\n",
              "      <th>pitch_type</th>\n",
              "      <th>event_num</th>\n",
              "      <th>b_score</th>\n",
              "      <th>ab_id</th>\n",
              "      <th>b_count</th>\n",
              "      <th>s_count</th>\n",
              "      <th>outs</th>\n",
              "      <th>pitch_num</th>\n",
              "      <th>on_1b</th>\n",
              "      <th>on_2b</th>\n",
              "      <th>on_3b</th>\n",
              "    </tr>\n",
              "  </thead>\n",
              "  <tbody>\n",
              "    <tr>\n",
              "      <th>0</th>\n",
              "      <td>0.416</td>\n",
              "      <td>2.963</td>\n",
              "      <td>92.9</td>\n",
              "      <td>84.1</td>\n",
              "      <td>2305.052</td>\n",
              "      <td>159.235</td>\n",
              "      <td>-25.0</td>\n",
              "      <td>3.2</td>\n",
              "      <td>23.7</td>\n",
              "      <td>7.665</td>\n",
              "      <td>34.685</td>\n",
              "      <td>-11.960</td>\n",
              "      <td>1.72</td>\n",
              "      <td>3.56</td>\n",
              "      <td>2.0</td>\n",
              "      <td>-6.409</td>\n",
              "      <td>-136.065</td>\n",
              "      <td>-3.995</td>\n",
              "      <td>101.140000</td>\n",
              "      <td>2.280</td>\n",
              "      <td>158.780000</td>\n",
              "      <td>50.0</td>\n",
              "      <td>5.302</td>\n",
              "      <td>4.16</td>\n",
              "      <td>10.93</td>\n",
              "      <td>55.0</td>\n",
              "      <td>3.0</td>\n",
              "      <td>C</td>\n",
              "      <td>S</td>\n",
              "      <td>FF</td>\n",
              "      <td>3</td>\n",
              "      <td>0.0</td>\n",
              "      <td>2.015000e+09</td>\n",
              "      <td>0.0</td>\n",
              "      <td>0.0</td>\n",
              "      <td>0.0</td>\n",
              "      <td>1.0</td>\n",
              "      <td>0.0</td>\n",
              "      <td>0.0</td>\n",
              "      <td>0.0</td>\n",
              "    </tr>\n",
              "    <tr>\n",
              "      <th>1</th>\n",
              "      <td>-0.191</td>\n",
              "      <td>2.347</td>\n",
              "      <td>92.8</td>\n",
              "      <td>84.1</td>\n",
              "      <td>2689.935</td>\n",
              "      <td>151.402</td>\n",
              "      <td>-40.7</td>\n",
              "      <td>3.4</td>\n",
              "      <td>23.7</td>\n",
              "      <td>12.043</td>\n",
              "      <td>34.225</td>\n",
              "      <td>-10.085</td>\n",
              "      <td>1.72</td>\n",
              "      <td>3.56</td>\n",
              "      <td>2.0</td>\n",
              "      <td>-8.411</td>\n",
              "      <td>-135.690</td>\n",
              "      <td>-5.980</td>\n",
              "      <td>124.280000</td>\n",
              "      <td>2.119</td>\n",
              "      <td>175.410000</td>\n",
              "      <td>50.0</td>\n",
              "      <td>5.307</td>\n",
              "      <td>6.57</td>\n",
              "      <td>12.00</td>\n",
              "      <td>31.0</td>\n",
              "      <td>5.0</td>\n",
              "      <td>S</td>\n",
              "      <td>S</td>\n",
              "      <td>FF</td>\n",
              "      <td>4</td>\n",
              "      <td>0.0</td>\n",
              "      <td>2.015000e+09</td>\n",
              "      <td>0.0</td>\n",
              "      <td>1.0</td>\n",
              "      <td>0.0</td>\n",
              "      <td>2.0</td>\n",
              "      <td>0.0</td>\n",
              "      <td>0.0</td>\n",
              "      <td>0.0</td>\n",
              "    </tr>\n",
              "    <tr>\n",
              "      <th>2</th>\n",
              "      <td>-0.518</td>\n",
              "      <td>3.284</td>\n",
              "      <td>94.1</td>\n",
              "      <td>85.2</td>\n",
              "      <td>2647.972</td>\n",
              "      <td>145.125</td>\n",
              "      <td>-43.7</td>\n",
              "      <td>3.7</td>\n",
              "      <td>23.7</td>\n",
              "      <td>14.368</td>\n",
              "      <td>35.276</td>\n",
              "      <td>-11.560</td>\n",
              "      <td>1.72</td>\n",
              "      <td>3.56</td>\n",
              "      <td>2.0</td>\n",
              "      <td>-9.802</td>\n",
              "      <td>-137.668</td>\n",
              "      <td>-3.337</td>\n",
              "      <td>136.740000</td>\n",
              "      <td>2.127</td>\n",
              "      <td>150.110000</td>\n",
              "      <td>50.0</td>\n",
              "      <td>5.313</td>\n",
              "      <td>7.61</td>\n",
              "      <td>10.88</td>\n",
              "      <td>49.0</td>\n",
              "      <td>1.0</td>\n",
              "      <td>F</td>\n",
              "      <td>S</td>\n",
              "      <td>FF</td>\n",
              "      <td>5</td>\n",
              "      <td>0.0</td>\n",
              "      <td>2.015000e+09</td>\n",
              "      <td>0.0</td>\n",
              "      <td>2.0</td>\n",
              "      <td>0.0</td>\n",
              "      <td>3.0</td>\n",
              "      <td>0.0</td>\n",
              "      <td>0.0</td>\n",
              "      <td>0.0</td>\n",
              "    </tr>\n",
              "    <tr>\n",
              "      <th>3</th>\n",
              "      <td>-0.641</td>\n",
              "      <td>1.221</td>\n",
              "      <td>91.0</td>\n",
              "      <td>84.0</td>\n",
              "      <td>1289.590</td>\n",
              "      <td>169.751</td>\n",
              "      <td>-1.3</td>\n",
              "      <td>5.0</td>\n",
              "      <td>23.8</td>\n",
              "      <td>2.104</td>\n",
              "      <td>28.354</td>\n",
              "      <td>-20.540</td>\n",
              "      <td>1.74</td>\n",
              "      <td>3.35</td>\n",
              "      <td>2.0</td>\n",
              "      <td>-8.071</td>\n",
              "      <td>-133.005</td>\n",
              "      <td>-6.567</td>\n",
              "      <td>109.685636</td>\n",
              "      <td>2.279</td>\n",
              "      <td>187.463482</td>\n",
              "      <td>50.0</td>\n",
              "      <td>5.210</td>\n",
              "      <td>1.17</td>\n",
              "      <td>6.45</td>\n",
              "      <td>41.0</td>\n",
              "      <td>13.0</td>\n",
              "      <td>B</td>\n",
              "      <td>B</td>\n",
              "      <td>FF</td>\n",
              "      <td>6</td>\n",
              "      <td>0.0</td>\n",
              "      <td>2.015000e+09</td>\n",
              "      <td>0.0</td>\n",
              "      <td>2.0</td>\n",
              "      <td>0.0</td>\n",
              "      <td>4.0</td>\n",
              "      <td>0.0</td>\n",
              "      <td>0.0</td>\n",
              "      <td>0.0</td>\n",
              "    </tr>\n",
              "    <tr>\n",
              "      <th>4</th>\n",
              "      <td>-1.821</td>\n",
              "      <td>2.083</td>\n",
              "      <td>75.4</td>\n",
              "      <td>69.6</td>\n",
              "      <td>1374.569</td>\n",
              "      <td>280.671</td>\n",
              "      <td>18.4</td>\n",
              "      <td>12.0</td>\n",
              "      <td>23.8</td>\n",
              "      <td>-10.280</td>\n",
              "      <td>21.774</td>\n",
              "      <td>-34.111</td>\n",
              "      <td>1.72</td>\n",
              "      <td>3.56</td>\n",
              "      <td>2.0</td>\n",
              "      <td>-6.309</td>\n",
              "      <td>-110.409</td>\n",
              "      <td>0.325</td>\n",
              "      <td>146.527525</td>\n",
              "      <td>2.179</td>\n",
              "      <td>177.242829</td>\n",
              "      <td>50.0</td>\n",
              "      <td>5.557</td>\n",
              "      <td>-8.43</td>\n",
              "      <td>-1.65</td>\n",
              "      <td>18.0</td>\n",
              "      <td>13.0</td>\n",
              "      <td>B</td>\n",
              "      <td>B</td>\n",
              "      <td>CU</td>\n",
              "      <td>7</td>\n",
              "      <td>0.0</td>\n",
              "      <td>2.015000e+09</td>\n",
              "      <td>1.0</td>\n",
              "      <td>2.0</td>\n",
              "      <td>0.0</td>\n",
              "      <td>5.0</td>\n",
              "      <td>0.0</td>\n",
              "      <td>0.0</td>\n",
              "      <td>0.0</td>\n",
              "    </tr>\n",
              "  </tbody>\n",
              "</table>\n",
              "</div>"
            ],
            "text/plain": [
              "      px     pz  start_speed  end_speed  ...  pitch_num  on_1b  on_2b  on_3b\n",
              "0  0.416  2.963         92.9       84.1  ...        1.0    0.0    0.0    0.0\n",
              "1 -0.191  2.347         92.8       84.1  ...        2.0    0.0    0.0    0.0\n",
              "2 -0.518  3.284         94.1       85.2  ...        3.0    0.0    0.0    0.0\n",
              "3 -0.641  1.221         91.0       84.0  ...        4.0    0.0    0.0    0.0\n",
              "4 -1.821  2.083         75.4       69.6  ...        5.0    0.0    0.0    0.0\n",
              "\n",
              "[5 rows x 40 columns]"
            ]
          },
          "metadata": {
            "tags": []
          },
          "execution_count": 72
        }
      ]
    },
    {
      "cell_type": "code",
      "metadata": {
        "id": "vpX2HvWR3X_q",
        "colab_type": "code",
        "colab": {
          "base_uri": "https://localhost:8080/",
          "height": 482
        },
        "outputId": "b2272806-d9a0-49a7-91b5-8d4957e64203"
      },
      "source": [
        "games_df.head()"
      ],
      "execution_count": 73,
      "outputs": [
        {
          "output_type": "execute_result",
          "data": {
            "text/html": [
              "<div>\n",
              "<style scoped>\n",
              "    .dataframe tbody tr th:only-of-type {\n",
              "        vertical-align: middle;\n",
              "    }\n",
              "\n",
              "    .dataframe tbody tr th {\n",
              "        vertical-align: top;\n",
              "    }\n",
              "\n",
              "    .dataframe thead th {\n",
              "        text-align: right;\n",
              "    }\n",
              "</style>\n",
              "<table border=\"1\" class=\"dataframe\">\n",
              "  <thead>\n",
              "    <tr style=\"text-align: right;\">\n",
              "      <th></th>\n",
              "      <th>attendance</th>\n",
              "      <th>away_final_score</th>\n",
              "      <th>away_team</th>\n",
              "      <th>date</th>\n",
              "      <th>elapsed_time</th>\n",
              "      <th>g_id</th>\n",
              "      <th>home_final_score</th>\n",
              "      <th>home_team</th>\n",
              "      <th>start_time</th>\n",
              "      <th>umpire_1B</th>\n",
              "      <th>umpire_2B</th>\n",
              "      <th>umpire_3B</th>\n",
              "      <th>umpire_HP</th>\n",
              "      <th>venue_name</th>\n",
              "      <th>weather</th>\n",
              "      <th>wind</th>\n",
              "      <th>delay</th>\n",
              "    </tr>\n",
              "  </thead>\n",
              "  <tbody>\n",
              "    <tr>\n",
              "      <th>0</th>\n",
              "      <td>35055</td>\n",
              "      <td>3</td>\n",
              "      <td>sln</td>\n",
              "      <td>2015-04-05</td>\n",
              "      <td>184</td>\n",
              "      <td>201500001</td>\n",
              "      <td>0</td>\n",
              "      <td>chn</td>\n",
              "      <td>7:17 PM</td>\n",
              "      <td>Mark Wegner</td>\n",
              "      <td>Marty Foster</td>\n",
              "      <td>Mike Muchlinski</td>\n",
              "      <td>Mike Winters</td>\n",
              "      <td>Wrigley Field</td>\n",
              "      <td>44 degrees, clear</td>\n",
              "      <td>7 mph, In from CF</td>\n",
              "      <td>0</td>\n",
              "    </tr>\n",
              "    <tr>\n",
              "      <th>1</th>\n",
              "      <td>45909</td>\n",
              "      <td>1</td>\n",
              "      <td>ana</td>\n",
              "      <td>2015-04-06</td>\n",
              "      <td>153</td>\n",
              "      <td>201500002</td>\n",
              "      <td>4</td>\n",
              "      <td>sea</td>\n",
              "      <td>1:12 PM</td>\n",
              "      <td>Ron Kulpa</td>\n",
              "      <td>Brian Knight</td>\n",
              "      <td>Vic Carapazza</td>\n",
              "      <td>Larry Vanover</td>\n",
              "      <td>Safeco Field</td>\n",
              "      <td>54 degrees, cloudy</td>\n",
              "      <td>1 mph, Varies</td>\n",
              "      <td>0</td>\n",
              "    </tr>\n",
              "    <tr>\n",
              "      <th>2</th>\n",
              "      <td>36969</td>\n",
              "      <td>2</td>\n",
              "      <td>atl</td>\n",
              "      <td>2015-04-06</td>\n",
              "      <td>156</td>\n",
              "      <td>201500003</td>\n",
              "      <td>1</td>\n",
              "      <td>mia</td>\n",
              "      <td>4:22 PM</td>\n",
              "      <td>Laz Diaz</td>\n",
              "      <td>Chris Guccione</td>\n",
              "      <td>Cory Blaser</td>\n",
              "      <td>Jeff Nelson</td>\n",
              "      <td>Marlins Park</td>\n",
              "      <td>80 degrees, partly cloudy</td>\n",
              "      <td>16 mph, In from CF</td>\n",
              "      <td>16</td>\n",
              "    </tr>\n",
              "    <tr>\n",
              "      <th>3</th>\n",
              "      <td>31042</td>\n",
              "      <td>6</td>\n",
              "      <td>bal</td>\n",
              "      <td>2015-04-06</td>\n",
              "      <td>181</td>\n",
              "      <td>201500004</td>\n",
              "      <td>2</td>\n",
              "      <td>tba</td>\n",
              "      <td>3:12 PM</td>\n",
              "      <td>Ed Hickox</td>\n",
              "      <td>Paul Nauert</td>\n",
              "      <td>Mike Estabrook</td>\n",
              "      <td>Dana DeMuth</td>\n",
              "      <td>Tropicana Field</td>\n",
              "      <td>72 degrees, dome</td>\n",
              "      <td>0 mph, None</td>\n",
              "      <td>0</td>\n",
              "    </tr>\n",
              "    <tr>\n",
              "      <th>4</th>\n",
              "      <td>45549</td>\n",
              "      <td>8</td>\n",
              "      <td>bos</td>\n",
              "      <td>2015-04-06</td>\n",
              "      <td>181</td>\n",
              "      <td>201500005</td>\n",
              "      <td>0</td>\n",
              "      <td>phi</td>\n",
              "      <td>3:08 PM</td>\n",
              "      <td>Phil Cuzzi</td>\n",
              "      <td>Tony Randazzo</td>\n",
              "      <td>Will Little</td>\n",
              "      <td>Gerry Davis</td>\n",
              "      <td>Citizens Bank Park</td>\n",
              "      <td>71 degrees, partly cloudy</td>\n",
              "      <td>11 mph, Out to RF</td>\n",
              "      <td>0</td>\n",
              "    </tr>\n",
              "  </tbody>\n",
              "</table>\n",
              "</div>"
            ],
            "text/plain": [
              "   attendance  away_final_score  ...                wind delay\n",
              "0       35055                 3  ...   7 mph, In from CF     0\n",
              "1       45909                 1  ...       1 mph, Varies     0\n",
              "2       36969                 2  ...  16 mph, In from CF    16\n",
              "3       31042                 6  ...         0 mph, None     0\n",
              "4       45549                 8  ...   11 mph, Out to RF     0\n",
              "\n",
              "[5 rows x 17 columns]"
            ]
          },
          "metadata": {
            "tags": []
          },
          "execution_count": 73
        }
      ]
    },
    {
      "cell_type": "code",
      "metadata": {
        "id": "KGpZhZsg3X7-",
        "colab_type": "code",
        "colab": {
          "base_uri": "https://localhost:8080/",
          "height": 202
        },
        "outputId": "82e60bdc-1dcd-4b14-a773-2d5902aacf38"
      },
      "source": [
        "bats_df.head()"
      ],
      "execution_count": 74,
      "outputs": [
        {
          "output_type": "execute_result",
          "data": {
            "text/html": [
              "<div>\n",
              "<style scoped>\n",
              "    .dataframe tbody tr th:only-of-type {\n",
              "        vertical-align: middle;\n",
              "    }\n",
              "\n",
              "    .dataframe tbody tr th {\n",
              "        vertical-align: top;\n",
              "    }\n",
              "\n",
              "    .dataframe thead th {\n",
              "        text-align: right;\n",
              "    }\n",
              "</style>\n",
              "<table border=\"1\" class=\"dataframe\">\n",
              "  <thead>\n",
              "    <tr style=\"text-align: right;\">\n",
              "      <th></th>\n",
              "      <th>ab_id</th>\n",
              "      <th>batter_id</th>\n",
              "      <th>event</th>\n",
              "      <th>g_id</th>\n",
              "      <th>inning</th>\n",
              "      <th>o</th>\n",
              "      <th>p_score</th>\n",
              "      <th>p_throws</th>\n",
              "      <th>pitcher_id</th>\n",
              "      <th>stand</th>\n",
              "      <th>top</th>\n",
              "    </tr>\n",
              "  </thead>\n",
              "  <tbody>\n",
              "    <tr>\n",
              "      <th>0</th>\n",
              "      <td>2015000001</td>\n",
              "      <td>572761</td>\n",
              "      <td>Groundout</td>\n",
              "      <td>201500001</td>\n",
              "      <td>1</td>\n",
              "      <td>1</td>\n",
              "      <td>0</td>\n",
              "      <td>L</td>\n",
              "      <td>452657</td>\n",
              "      <td>L</td>\n",
              "      <td>True</td>\n",
              "    </tr>\n",
              "    <tr>\n",
              "      <th>1</th>\n",
              "      <td>2015000002</td>\n",
              "      <td>518792</td>\n",
              "      <td>Double</td>\n",
              "      <td>201500001</td>\n",
              "      <td>1</td>\n",
              "      <td>1</td>\n",
              "      <td>0</td>\n",
              "      <td>L</td>\n",
              "      <td>452657</td>\n",
              "      <td>L</td>\n",
              "      <td>True</td>\n",
              "    </tr>\n",
              "    <tr>\n",
              "      <th>2</th>\n",
              "      <td>2015000003</td>\n",
              "      <td>407812</td>\n",
              "      <td>Single</td>\n",
              "      <td>201500001</td>\n",
              "      <td>1</td>\n",
              "      <td>1</td>\n",
              "      <td>0</td>\n",
              "      <td>L</td>\n",
              "      <td>452657</td>\n",
              "      <td>R</td>\n",
              "      <td>True</td>\n",
              "    </tr>\n",
              "    <tr>\n",
              "      <th>3</th>\n",
              "      <td>2015000004</td>\n",
              "      <td>425509</td>\n",
              "      <td>Strikeout</td>\n",
              "      <td>201500001</td>\n",
              "      <td>1</td>\n",
              "      <td>2</td>\n",
              "      <td>0</td>\n",
              "      <td>L</td>\n",
              "      <td>452657</td>\n",
              "      <td>R</td>\n",
              "      <td>True</td>\n",
              "    </tr>\n",
              "    <tr>\n",
              "      <th>4</th>\n",
              "      <td>2015000005</td>\n",
              "      <td>571431</td>\n",
              "      <td>Strikeout</td>\n",
              "      <td>201500001</td>\n",
              "      <td>1</td>\n",
              "      <td>3</td>\n",
              "      <td>0</td>\n",
              "      <td>L</td>\n",
              "      <td>452657</td>\n",
              "      <td>L</td>\n",
              "      <td>True</td>\n",
              "    </tr>\n",
              "  </tbody>\n",
              "</table>\n",
              "</div>"
            ],
            "text/plain": [
              "        ab_id  batter_id      event       g_id  ...  p_throws  pitcher_id  stand   top\n",
              "0  2015000001     572761  Groundout  201500001  ...         L      452657      L  True\n",
              "1  2015000002     518792     Double  201500001  ...         L      452657      L  True\n",
              "2  2015000003     407812     Single  201500001  ...         L      452657      R  True\n",
              "3  2015000004     425509  Strikeout  201500001  ...         L      452657      R  True\n",
              "4  2015000005     571431  Strikeout  201500001  ...         L      452657      L  True\n",
              "\n",
              "[5 rows x 11 columns]"
            ]
          },
          "metadata": {
            "tags": []
          },
          "execution_count": 74
        }
      ]
    },
    {
      "cell_type": "code",
      "metadata": {
        "id": "Pk1kSwu_3X2_",
        "colab_type": "code",
        "colab": {}
      },
      "source": [
        "# From the pitches df we only want \n",
        "# type_confidence, code, type, pitch_type, and\n",
        "# the ab_id. So we drop the rest\n",
        "pitches_2df = pitches_df.drop(pitches_df.columns[[0, 1,2, 3,4,5,6,7,8,9,10,11,12,13,15,16,17,\n",
        "                                                  18,19,20,21,22,23,24,25,26,30,31,33,34,35,36,37,38,39]], axis=1) "
      ],
      "execution_count": 0,
      "outputs": []
    },
    {
      "cell_type": "code",
      "metadata": {
        "id": "eGZDKVXj3Xzb",
        "colab_type": "code",
        "colab": {
          "base_uri": "https://localhost:8080/",
          "height": 202
        },
        "outputId": "f66d6c82-3c67-41b8-a3ab-e6821c3722ce"
      },
      "source": [
        "# Double check\n",
        "pitches_2df.head()"
      ],
      "execution_count": 76,
      "outputs": [
        {
          "output_type": "execute_result",
          "data": {
            "text/html": [
              "<div>\n",
              "<style scoped>\n",
              "    .dataframe tbody tr th:only-of-type {\n",
              "        vertical-align: middle;\n",
              "    }\n",
              "\n",
              "    .dataframe tbody tr th {\n",
              "        vertical-align: top;\n",
              "    }\n",
              "\n",
              "    .dataframe thead th {\n",
              "        text-align: right;\n",
              "    }\n",
              "</style>\n",
              "<table border=\"1\" class=\"dataframe\">\n",
              "  <thead>\n",
              "    <tr style=\"text-align: right;\">\n",
              "      <th></th>\n",
              "      <th>type_confidence</th>\n",
              "      <th>code</th>\n",
              "      <th>type</th>\n",
              "      <th>pitch_type</th>\n",
              "      <th>ab_id</th>\n",
              "    </tr>\n",
              "  </thead>\n",
              "  <tbody>\n",
              "    <tr>\n",
              "      <th>0</th>\n",
              "      <td>2.0</td>\n",
              "      <td>C</td>\n",
              "      <td>S</td>\n",
              "      <td>FF</td>\n",
              "      <td>2.015000e+09</td>\n",
              "    </tr>\n",
              "    <tr>\n",
              "      <th>1</th>\n",
              "      <td>2.0</td>\n",
              "      <td>S</td>\n",
              "      <td>S</td>\n",
              "      <td>FF</td>\n",
              "      <td>2.015000e+09</td>\n",
              "    </tr>\n",
              "    <tr>\n",
              "      <th>2</th>\n",
              "      <td>2.0</td>\n",
              "      <td>F</td>\n",
              "      <td>S</td>\n",
              "      <td>FF</td>\n",
              "      <td>2.015000e+09</td>\n",
              "    </tr>\n",
              "    <tr>\n",
              "      <th>3</th>\n",
              "      <td>2.0</td>\n",
              "      <td>B</td>\n",
              "      <td>B</td>\n",
              "      <td>FF</td>\n",
              "      <td>2.015000e+09</td>\n",
              "    </tr>\n",
              "    <tr>\n",
              "      <th>4</th>\n",
              "      <td>2.0</td>\n",
              "      <td>B</td>\n",
              "      <td>B</td>\n",
              "      <td>CU</td>\n",
              "      <td>2.015000e+09</td>\n",
              "    </tr>\n",
              "  </tbody>\n",
              "</table>\n",
              "</div>"
            ],
            "text/plain": [
              "   type_confidence code type pitch_type         ab_id\n",
              "0              2.0    C    S         FF  2.015000e+09\n",
              "1              2.0    S    S         FF  2.015000e+09\n",
              "2              2.0    F    S         FF  2.015000e+09\n",
              "3              2.0    B    B         FF  2.015000e+09\n",
              "4              2.0    B    B         CU  2.015000e+09"
            ]
          },
          "metadata": {
            "tags": []
          },
          "execution_count": 76
        }
      ]
    },
    {
      "cell_type": "code",
      "metadata": {
        "id": "q_mWHY4u3Xvl",
        "colab_type": "code",
        "colab": {}
      },
      "source": [
        "# From the at_bats df we only want\n",
        "# ab_id, batter_id, event\tg_id, pitcher_id, stand\n",
        "# we drop the rest\n",
        "bats_df2 = bats_df.drop(bats_df.columns[[4,5,6,7,10]], axis=1) "
      ],
      "execution_count": 0,
      "outputs": []
    },
    {
      "cell_type": "code",
      "metadata": {
        "id": "BwawAZas3XpV",
        "colab_type": "code",
        "colab": {
          "base_uri": "https://localhost:8080/",
          "height": 202
        },
        "outputId": "d19e4b6b-8262-4fc5-9343-d34fa3941ae9"
      },
      "source": [
        "# Double check\n",
        "bats_df2.head()"
      ],
      "execution_count": 78,
      "outputs": [
        {
          "output_type": "execute_result",
          "data": {
            "text/html": [
              "<div>\n",
              "<style scoped>\n",
              "    .dataframe tbody tr th:only-of-type {\n",
              "        vertical-align: middle;\n",
              "    }\n",
              "\n",
              "    .dataframe tbody tr th {\n",
              "        vertical-align: top;\n",
              "    }\n",
              "\n",
              "    .dataframe thead th {\n",
              "        text-align: right;\n",
              "    }\n",
              "</style>\n",
              "<table border=\"1\" class=\"dataframe\">\n",
              "  <thead>\n",
              "    <tr style=\"text-align: right;\">\n",
              "      <th></th>\n",
              "      <th>ab_id</th>\n",
              "      <th>batter_id</th>\n",
              "      <th>event</th>\n",
              "      <th>g_id</th>\n",
              "      <th>pitcher_id</th>\n",
              "      <th>stand</th>\n",
              "    </tr>\n",
              "  </thead>\n",
              "  <tbody>\n",
              "    <tr>\n",
              "      <th>0</th>\n",
              "      <td>2015000001</td>\n",
              "      <td>572761</td>\n",
              "      <td>Groundout</td>\n",
              "      <td>201500001</td>\n",
              "      <td>452657</td>\n",
              "      <td>L</td>\n",
              "    </tr>\n",
              "    <tr>\n",
              "      <th>1</th>\n",
              "      <td>2015000002</td>\n",
              "      <td>518792</td>\n",
              "      <td>Double</td>\n",
              "      <td>201500001</td>\n",
              "      <td>452657</td>\n",
              "      <td>L</td>\n",
              "    </tr>\n",
              "    <tr>\n",
              "      <th>2</th>\n",
              "      <td>2015000003</td>\n",
              "      <td>407812</td>\n",
              "      <td>Single</td>\n",
              "      <td>201500001</td>\n",
              "      <td>452657</td>\n",
              "      <td>R</td>\n",
              "    </tr>\n",
              "    <tr>\n",
              "      <th>3</th>\n",
              "      <td>2015000004</td>\n",
              "      <td>425509</td>\n",
              "      <td>Strikeout</td>\n",
              "      <td>201500001</td>\n",
              "      <td>452657</td>\n",
              "      <td>R</td>\n",
              "    </tr>\n",
              "    <tr>\n",
              "      <th>4</th>\n",
              "      <td>2015000005</td>\n",
              "      <td>571431</td>\n",
              "      <td>Strikeout</td>\n",
              "      <td>201500001</td>\n",
              "      <td>452657</td>\n",
              "      <td>L</td>\n",
              "    </tr>\n",
              "  </tbody>\n",
              "</table>\n",
              "</div>"
            ],
            "text/plain": [
              "        ab_id  batter_id      event       g_id  pitcher_id stand\n",
              "0  2015000001     572761  Groundout  201500001      452657     L\n",
              "1  2015000002     518792     Double  201500001      452657     L\n",
              "2  2015000003     407812     Single  201500001      452657     R\n",
              "3  2015000004     425509  Strikeout  201500001      452657     R\n",
              "4  2015000005     571431  Strikeout  201500001      452657     L"
            ]
          },
          "metadata": {
            "tags": []
          },
          "execution_count": 78
        }
      ]
    },
    {
      "cell_type": "code",
      "metadata": {
        "id": "a_l-t4bg3Xju",
        "colab_type": "code",
        "colab": {}
      },
      "source": [
        "# We want everything from the players dataframe\n",
        "# No need to drop anything"
      ],
      "execution_count": 0,
      "outputs": []
    },
    {
      "cell_type": "code",
      "metadata": {
        "id": "l_McbRkt6YPW",
        "colab_type": "code",
        "colab": {}
      },
      "source": [
        "# Combine the bats and pitches dataframes\n",
        "new_df = pd.merge(bats_df2, pitches_2df, on='ab_id', how='outer')"
      ],
      "execution_count": 0,
      "outputs": []
    },
    {
      "cell_type": "code",
      "metadata": {
        "id": "QDdk-PBV6iLj",
        "colab_type": "code",
        "colab": {
          "base_uri": "https://localhost:8080/",
          "height": 415
        },
        "outputId": "8da4b020-f782-44c9-d40c-80792777bf00"
      },
      "source": [
        "# Double check\n",
        "new_df"
      ],
      "execution_count": 81,
      "outputs": [
        {
          "output_type": "execute_result",
          "data": {
            "text/html": [
              "<div>\n",
              "<style scoped>\n",
              "    .dataframe tbody tr th:only-of-type {\n",
              "        vertical-align: middle;\n",
              "    }\n",
              "\n",
              "    .dataframe tbody tr th {\n",
              "        vertical-align: top;\n",
              "    }\n",
              "\n",
              "    .dataframe thead th {\n",
              "        text-align: right;\n",
              "    }\n",
              "</style>\n",
              "<table border=\"1\" class=\"dataframe\">\n",
              "  <thead>\n",
              "    <tr style=\"text-align: right;\">\n",
              "      <th></th>\n",
              "      <th>ab_id</th>\n",
              "      <th>batter_id</th>\n",
              "      <th>event</th>\n",
              "      <th>g_id</th>\n",
              "      <th>pitcher_id</th>\n",
              "      <th>stand</th>\n",
              "      <th>type_confidence</th>\n",
              "      <th>code</th>\n",
              "      <th>type</th>\n",
              "      <th>pitch_type</th>\n",
              "    </tr>\n",
              "  </thead>\n",
              "  <tbody>\n",
              "    <tr>\n",
              "      <th>0</th>\n",
              "      <td>2015000001</td>\n",
              "      <td>572761</td>\n",
              "      <td>Groundout</td>\n",
              "      <td>201500001</td>\n",
              "      <td>452657</td>\n",
              "      <td>L</td>\n",
              "      <td>2.000</td>\n",
              "      <td>C</td>\n",
              "      <td>S</td>\n",
              "      <td>FF</td>\n",
              "    </tr>\n",
              "    <tr>\n",
              "      <th>1</th>\n",
              "      <td>2015000001</td>\n",
              "      <td>572761</td>\n",
              "      <td>Groundout</td>\n",
              "      <td>201500001</td>\n",
              "      <td>452657</td>\n",
              "      <td>L</td>\n",
              "      <td>2.000</td>\n",
              "      <td>S</td>\n",
              "      <td>S</td>\n",
              "      <td>FF</td>\n",
              "    </tr>\n",
              "    <tr>\n",
              "      <th>2</th>\n",
              "      <td>2015000001</td>\n",
              "      <td>572761</td>\n",
              "      <td>Groundout</td>\n",
              "      <td>201500001</td>\n",
              "      <td>452657</td>\n",
              "      <td>L</td>\n",
              "      <td>2.000</td>\n",
              "      <td>F</td>\n",
              "      <td>S</td>\n",
              "      <td>FF</td>\n",
              "    </tr>\n",
              "    <tr>\n",
              "      <th>3</th>\n",
              "      <td>2015000001</td>\n",
              "      <td>572761</td>\n",
              "      <td>Groundout</td>\n",
              "      <td>201500001</td>\n",
              "      <td>452657</td>\n",
              "      <td>L</td>\n",
              "      <td>2.000</td>\n",
              "      <td>B</td>\n",
              "      <td>B</td>\n",
              "      <td>FF</td>\n",
              "    </tr>\n",
              "    <tr>\n",
              "      <th>4</th>\n",
              "      <td>2015000001</td>\n",
              "      <td>572761</td>\n",
              "      <td>Groundout</td>\n",
              "      <td>201500001</td>\n",
              "      <td>452657</td>\n",
              "      <td>L</td>\n",
              "      <td>2.000</td>\n",
              "      <td>B</td>\n",
              "      <td>B</td>\n",
              "      <td>CU</td>\n",
              "    </tr>\n",
              "    <tr>\n",
              "      <th>...</th>\n",
              "      <td>...</td>\n",
              "      <td>...</td>\n",
              "      <td>...</td>\n",
              "      <td>...</td>\n",
              "      <td>...</td>\n",
              "      <td>...</td>\n",
              "      <td>...</td>\n",
              "      <td>...</td>\n",
              "      <td>...</td>\n",
              "      <td>...</td>\n",
              "    </tr>\n",
              "    <tr>\n",
              "      <th>2867297</th>\n",
              "      <td>2018185573</td>\n",
              "      <td>595879</td>\n",
              "      <td>Single</td>\n",
              "      <td>201802431</td>\n",
              "      <td>623352</td>\n",
              "      <td>R</td>\n",
              "      <td>0.908</td>\n",
              "      <td>D</td>\n",
              "      <td>X</td>\n",
              "      <td>SL</td>\n",
              "    </tr>\n",
              "    <tr>\n",
              "      <th>2867298</th>\n",
              "      <td>2018185574</td>\n",
              "      <td>519203</td>\n",
              "      <td>Flyout</td>\n",
              "      <td>201802431</td>\n",
              "      <td>623352</td>\n",
              "      <td>L</td>\n",
              "      <td>0.892</td>\n",
              "      <td>B</td>\n",
              "      <td>B</td>\n",
              "      <td>FF</td>\n",
              "    </tr>\n",
              "    <tr>\n",
              "      <th>2867299</th>\n",
              "      <td>2018185574</td>\n",
              "      <td>519203</td>\n",
              "      <td>Flyout</td>\n",
              "      <td>201802431</td>\n",
              "      <td>623352</td>\n",
              "      <td>L</td>\n",
              "      <td>0.898</td>\n",
              "      <td>F</td>\n",
              "      <td>S</td>\n",
              "      <td>FF</td>\n",
              "    </tr>\n",
              "    <tr>\n",
              "      <th>2867300</th>\n",
              "      <td>2018185574</td>\n",
              "      <td>519203</td>\n",
              "      <td>Flyout</td>\n",
              "      <td>201802431</td>\n",
              "      <td>623352</td>\n",
              "      <td>L</td>\n",
              "      <td>0.910</td>\n",
              "      <td>S</td>\n",
              "      <td>S</td>\n",
              "      <td>FF</td>\n",
              "    </tr>\n",
              "    <tr>\n",
              "      <th>2867301</th>\n",
              "      <td>2018185574</td>\n",
              "      <td>519203</td>\n",
              "      <td>Flyout</td>\n",
              "      <td>201802431</td>\n",
              "      <td>623352</td>\n",
              "      <td>L</td>\n",
              "      <td>0.907</td>\n",
              "      <td>X</td>\n",
              "      <td>X</td>\n",
              "      <td>FF</td>\n",
              "    </tr>\n",
              "  </tbody>\n",
              "</table>\n",
              "<p>2867302 rows × 10 columns</p>\n",
              "</div>"
            ],
            "text/plain": [
              "              ab_id  batter_id      event  ...  code  type pitch_type\n",
              "0        2015000001     572761  Groundout  ...     C     S         FF\n",
              "1        2015000001     572761  Groundout  ...     S     S         FF\n",
              "2        2015000001     572761  Groundout  ...     F     S         FF\n",
              "3        2015000001     572761  Groundout  ...     B     B         FF\n",
              "4        2015000001     572761  Groundout  ...     B     B         CU\n",
              "...             ...        ...        ...  ...   ...   ...        ...\n",
              "2867297  2018185573     595879     Single  ...     D     X         SL\n",
              "2867298  2018185574     519203     Flyout  ...     B     B         FF\n",
              "2867299  2018185574     519203     Flyout  ...     F     S         FF\n",
              "2867300  2018185574     519203     Flyout  ...     S     S         FF\n",
              "2867301  2018185574     519203     Flyout  ...     X     X         FF\n",
              "\n",
              "[2867302 rows x 10 columns]"
            ]
          },
          "metadata": {
            "tags": []
          },
          "execution_count": 81
        }
      ]
    },
    {
      "cell_type": "code",
      "metadata": {
        "id": "zWvZ4ie66wwx",
        "colab_type": "code",
        "colab": {}
      },
      "source": [
        "# We need to add the player names\n",
        "# but the player id's are seperated into batters and pitchers\n",
        "# we don't need batters so we drop that column so we can\n",
        "# merge player names on pitcher_id\n",
        "# g_id and event is redundant, will drop those as well\n",
        "new_df2 = new_df.drop(new_df.columns[[1,2,3]], axis=1)"
      ],
      "execution_count": 0,
      "outputs": []
    },
    {
      "cell_type": "code",
      "metadata": {
        "id": "ZXD52HLq7efI",
        "colab_type": "code",
        "colab": {
          "base_uri": "https://localhost:8080/",
          "height": 415
        },
        "outputId": "ee65ff2a-4c06-4c5a-9eed-f4dea9243732"
      },
      "source": [
        "new_df2"
      ],
      "execution_count": 83,
      "outputs": [
        {
          "output_type": "execute_result",
          "data": {
            "text/html": [
              "<div>\n",
              "<style scoped>\n",
              "    .dataframe tbody tr th:only-of-type {\n",
              "        vertical-align: middle;\n",
              "    }\n",
              "\n",
              "    .dataframe tbody tr th {\n",
              "        vertical-align: top;\n",
              "    }\n",
              "\n",
              "    .dataframe thead th {\n",
              "        text-align: right;\n",
              "    }\n",
              "</style>\n",
              "<table border=\"1\" class=\"dataframe\">\n",
              "  <thead>\n",
              "    <tr style=\"text-align: right;\">\n",
              "      <th></th>\n",
              "      <th>ab_id</th>\n",
              "      <th>pitcher_id</th>\n",
              "      <th>stand</th>\n",
              "      <th>type_confidence</th>\n",
              "      <th>code</th>\n",
              "      <th>type</th>\n",
              "      <th>pitch_type</th>\n",
              "    </tr>\n",
              "  </thead>\n",
              "  <tbody>\n",
              "    <tr>\n",
              "      <th>0</th>\n",
              "      <td>2015000001</td>\n",
              "      <td>452657</td>\n",
              "      <td>L</td>\n",
              "      <td>2.000</td>\n",
              "      <td>C</td>\n",
              "      <td>S</td>\n",
              "      <td>FF</td>\n",
              "    </tr>\n",
              "    <tr>\n",
              "      <th>1</th>\n",
              "      <td>2015000001</td>\n",
              "      <td>452657</td>\n",
              "      <td>L</td>\n",
              "      <td>2.000</td>\n",
              "      <td>S</td>\n",
              "      <td>S</td>\n",
              "      <td>FF</td>\n",
              "    </tr>\n",
              "    <tr>\n",
              "      <th>2</th>\n",
              "      <td>2015000001</td>\n",
              "      <td>452657</td>\n",
              "      <td>L</td>\n",
              "      <td>2.000</td>\n",
              "      <td>F</td>\n",
              "      <td>S</td>\n",
              "      <td>FF</td>\n",
              "    </tr>\n",
              "    <tr>\n",
              "      <th>3</th>\n",
              "      <td>2015000001</td>\n",
              "      <td>452657</td>\n",
              "      <td>L</td>\n",
              "      <td>2.000</td>\n",
              "      <td>B</td>\n",
              "      <td>B</td>\n",
              "      <td>FF</td>\n",
              "    </tr>\n",
              "    <tr>\n",
              "      <th>4</th>\n",
              "      <td>2015000001</td>\n",
              "      <td>452657</td>\n",
              "      <td>L</td>\n",
              "      <td>2.000</td>\n",
              "      <td>B</td>\n",
              "      <td>B</td>\n",
              "      <td>CU</td>\n",
              "    </tr>\n",
              "    <tr>\n",
              "      <th>...</th>\n",
              "      <td>...</td>\n",
              "      <td>...</td>\n",
              "      <td>...</td>\n",
              "      <td>...</td>\n",
              "      <td>...</td>\n",
              "      <td>...</td>\n",
              "      <td>...</td>\n",
              "    </tr>\n",
              "    <tr>\n",
              "      <th>2867297</th>\n",
              "      <td>2018185573</td>\n",
              "      <td>623352</td>\n",
              "      <td>R</td>\n",
              "      <td>0.908</td>\n",
              "      <td>D</td>\n",
              "      <td>X</td>\n",
              "      <td>SL</td>\n",
              "    </tr>\n",
              "    <tr>\n",
              "      <th>2867298</th>\n",
              "      <td>2018185574</td>\n",
              "      <td>623352</td>\n",
              "      <td>L</td>\n",
              "      <td>0.892</td>\n",
              "      <td>B</td>\n",
              "      <td>B</td>\n",
              "      <td>FF</td>\n",
              "    </tr>\n",
              "    <tr>\n",
              "      <th>2867299</th>\n",
              "      <td>2018185574</td>\n",
              "      <td>623352</td>\n",
              "      <td>L</td>\n",
              "      <td>0.898</td>\n",
              "      <td>F</td>\n",
              "      <td>S</td>\n",
              "      <td>FF</td>\n",
              "    </tr>\n",
              "    <tr>\n",
              "      <th>2867300</th>\n",
              "      <td>2018185574</td>\n",
              "      <td>623352</td>\n",
              "      <td>L</td>\n",
              "      <td>0.910</td>\n",
              "      <td>S</td>\n",
              "      <td>S</td>\n",
              "      <td>FF</td>\n",
              "    </tr>\n",
              "    <tr>\n",
              "      <th>2867301</th>\n",
              "      <td>2018185574</td>\n",
              "      <td>623352</td>\n",
              "      <td>L</td>\n",
              "      <td>0.907</td>\n",
              "      <td>X</td>\n",
              "      <td>X</td>\n",
              "      <td>FF</td>\n",
              "    </tr>\n",
              "  </tbody>\n",
              "</table>\n",
              "<p>2867302 rows × 7 columns</p>\n",
              "</div>"
            ],
            "text/plain": [
              "              ab_id  pitcher_id stand  type_confidence code type pitch_type\n",
              "0        2015000001      452657     L            2.000    C    S         FF\n",
              "1        2015000001      452657     L            2.000    S    S         FF\n",
              "2        2015000001      452657     L            2.000    F    S         FF\n",
              "3        2015000001      452657     L            2.000    B    B         FF\n",
              "4        2015000001      452657     L            2.000    B    B         CU\n",
              "...             ...         ...   ...              ...  ...  ...        ...\n",
              "2867297  2018185573      623352     R            0.908    D    X         SL\n",
              "2867298  2018185574      623352     L            0.892    B    B         FF\n",
              "2867299  2018185574      623352     L            0.898    F    S         FF\n",
              "2867300  2018185574      623352     L            0.910    S    S         FF\n",
              "2867301  2018185574      623352     L            0.907    X    X         FF\n",
              "\n",
              "[2867302 rows x 7 columns]"
            ]
          },
          "metadata": {
            "tags": []
          },
          "execution_count": 83
        }
      ]
    },
    {
      "cell_type": "code",
      "metadata": {
        "id": "tpoWv8qL86DS",
        "colab_type": "code",
        "colab": {}
      },
      "source": [
        "# add a pitcher_id column for the merge\n",
        "# drop the redundancy\n",
        "players_df['pitcher_id'] = players_df['id']\n",
        "players_df = players_df.drop(players_df.columns[[0]], axis=1)"
      ],
      "execution_count": 0,
      "outputs": []
    },
    {
      "cell_type": "code",
      "metadata": {
        "id": "w_R63Ka98XYB",
        "colab_type": "code",
        "colab": {
          "base_uri": "https://localhost:8080/",
          "height": 202
        },
        "outputId": "3eb1f02c-fc2f-4fb0-a6e8-66265737c943"
      },
      "source": [
        "# Double check\n",
        "players_df.head()"
      ],
      "execution_count": 85,
      "outputs": [
        {
          "output_type": "execute_result",
          "data": {
            "text/html": [
              "<div>\n",
              "<style scoped>\n",
              "    .dataframe tbody tr th:only-of-type {\n",
              "        vertical-align: middle;\n",
              "    }\n",
              "\n",
              "    .dataframe tbody tr th {\n",
              "        vertical-align: top;\n",
              "    }\n",
              "\n",
              "    .dataframe thead th {\n",
              "        text-align: right;\n",
              "    }\n",
              "</style>\n",
              "<table border=\"1\" class=\"dataframe\">\n",
              "  <thead>\n",
              "    <tr style=\"text-align: right;\">\n",
              "      <th></th>\n",
              "      <th>first_name</th>\n",
              "      <th>last_name</th>\n",
              "      <th>pitcher_id</th>\n",
              "    </tr>\n",
              "  </thead>\n",
              "  <tbody>\n",
              "    <tr>\n",
              "      <th>0</th>\n",
              "      <td>Jon</td>\n",
              "      <td>Lester</td>\n",
              "      <td>452657</td>\n",
              "    </tr>\n",
              "    <tr>\n",
              "      <th>1</th>\n",
              "      <td>Adam</td>\n",
              "      <td>Wainwright</td>\n",
              "      <td>425794</td>\n",
              "    </tr>\n",
              "    <tr>\n",
              "      <th>2</th>\n",
              "      <td>Phil</td>\n",
              "      <td>Coke</td>\n",
              "      <td>457435</td>\n",
              "    </tr>\n",
              "    <tr>\n",
              "      <th>3</th>\n",
              "      <td>Jason</td>\n",
              "      <td>Motte</td>\n",
              "      <td>435400</td>\n",
              "    </tr>\n",
              "    <tr>\n",
              "      <th>4</th>\n",
              "      <td>Neil</td>\n",
              "      <td>Ramirez</td>\n",
              "      <td>519166</td>\n",
              "    </tr>\n",
              "  </tbody>\n",
              "</table>\n",
              "</div>"
            ],
            "text/plain": [
              "  first_name   last_name  pitcher_id\n",
              "0        Jon      Lester      452657\n",
              "1       Adam  Wainwright      425794\n",
              "2       Phil        Coke      457435\n",
              "3      Jason       Motte      435400\n",
              "4       Neil     Ramirez      519166"
            ]
          },
          "metadata": {
            "tags": []
          },
          "execution_count": 85
        }
      ]
    },
    {
      "cell_type": "code",
      "metadata": {
        "id": "KJRovoKH85S_",
        "colab_type": "code",
        "colab": {}
      },
      "source": [
        "# merge the dataframe\n",
        "new_df3 = pd.merge(new_df2, players_df, on='pitcher_id', how='outer')"
      ],
      "execution_count": 0,
      "outputs": []
    },
    {
      "cell_type": "code",
      "metadata": {
        "id": "ZYzj4y8C-IJQ",
        "colab_type": "code",
        "colab": {
          "base_uri": "https://localhost:8080/",
          "height": 415
        },
        "outputId": "41ac98da-71ea-4deb-a668-d5f52f733241"
      },
      "source": [
        "# it worked, but we have to trim the batter ids\n",
        "new_df3"
      ],
      "execution_count": 87,
      "outputs": [
        {
          "output_type": "execute_result",
          "data": {
            "text/html": [
              "<div>\n",
              "<style scoped>\n",
              "    .dataframe tbody tr th:only-of-type {\n",
              "        vertical-align: middle;\n",
              "    }\n",
              "\n",
              "    .dataframe tbody tr th {\n",
              "        vertical-align: top;\n",
              "    }\n",
              "\n",
              "    .dataframe thead th {\n",
              "        text-align: right;\n",
              "    }\n",
              "</style>\n",
              "<table border=\"1\" class=\"dataframe\">\n",
              "  <thead>\n",
              "    <tr style=\"text-align: right;\">\n",
              "      <th></th>\n",
              "      <th>ab_id</th>\n",
              "      <th>pitcher_id</th>\n",
              "      <th>stand</th>\n",
              "      <th>type_confidence</th>\n",
              "      <th>code</th>\n",
              "      <th>type</th>\n",
              "      <th>pitch_type</th>\n",
              "      <th>first_name</th>\n",
              "      <th>last_name</th>\n",
              "    </tr>\n",
              "  </thead>\n",
              "  <tbody>\n",
              "    <tr>\n",
              "      <th>0</th>\n",
              "      <td>2.015000e+09</td>\n",
              "      <td>452657</td>\n",
              "      <td>L</td>\n",
              "      <td>2.0</td>\n",
              "      <td>C</td>\n",
              "      <td>S</td>\n",
              "      <td>FF</td>\n",
              "      <td>Jon</td>\n",
              "      <td>Lester</td>\n",
              "    </tr>\n",
              "    <tr>\n",
              "      <th>1</th>\n",
              "      <td>2.015000e+09</td>\n",
              "      <td>452657</td>\n",
              "      <td>L</td>\n",
              "      <td>2.0</td>\n",
              "      <td>S</td>\n",
              "      <td>S</td>\n",
              "      <td>FF</td>\n",
              "      <td>Jon</td>\n",
              "      <td>Lester</td>\n",
              "    </tr>\n",
              "    <tr>\n",
              "      <th>2</th>\n",
              "      <td>2.015000e+09</td>\n",
              "      <td>452657</td>\n",
              "      <td>L</td>\n",
              "      <td>2.0</td>\n",
              "      <td>F</td>\n",
              "      <td>S</td>\n",
              "      <td>FF</td>\n",
              "      <td>Jon</td>\n",
              "      <td>Lester</td>\n",
              "    </tr>\n",
              "    <tr>\n",
              "      <th>3</th>\n",
              "      <td>2.015000e+09</td>\n",
              "      <td>452657</td>\n",
              "      <td>L</td>\n",
              "      <td>2.0</td>\n",
              "      <td>B</td>\n",
              "      <td>B</td>\n",
              "      <td>FF</td>\n",
              "      <td>Jon</td>\n",
              "      <td>Lester</td>\n",
              "    </tr>\n",
              "    <tr>\n",
              "      <th>4</th>\n",
              "      <td>2.015000e+09</td>\n",
              "      <td>452657</td>\n",
              "      <td>L</td>\n",
              "      <td>2.0</td>\n",
              "      <td>B</td>\n",
              "      <td>B</td>\n",
              "      <td>CU</td>\n",
              "      <td>Jon</td>\n",
              "      <td>Lester</td>\n",
              "    </tr>\n",
              "    <tr>\n",
              "      <th>...</th>\n",
              "      <td>...</td>\n",
              "      <td>...</td>\n",
              "      <td>...</td>\n",
              "      <td>...</td>\n",
              "      <td>...</td>\n",
              "      <td>...</td>\n",
              "      <td>...</td>\n",
              "      <td>...</td>\n",
              "      <td>...</td>\n",
              "    </tr>\n",
              "    <tr>\n",
              "      <th>2868183</th>\n",
              "      <td>NaN</td>\n",
              "      <td>582473</td>\n",
              "      <td>NaN</td>\n",
              "      <td>NaN</td>\n",
              "      <td>NaN</td>\n",
              "      <td>NaN</td>\n",
              "      <td>NaN</td>\n",
              "      <td>Sherman</td>\n",
              "      <td>Johnson</td>\n",
              "    </tr>\n",
              "    <tr>\n",
              "      <th>2868184</th>\n",
              "      <td>NaN</td>\n",
              "      <td>664702</td>\n",
              "      <td>NaN</td>\n",
              "      <td>NaN</td>\n",
              "      <td>NaN</td>\n",
              "      <td>NaN</td>\n",
              "      <td>NaN</td>\n",
              "      <td>Myles</td>\n",
              "      <td>Straw</td>\n",
              "    </tr>\n",
              "    <tr>\n",
              "      <th>2868185</th>\n",
              "      <td>NaN</td>\n",
              "      <td>624641</td>\n",
              "      <td>NaN</td>\n",
              "      <td>NaN</td>\n",
              "      <td>NaN</td>\n",
              "      <td>NaN</td>\n",
              "      <td>NaN</td>\n",
              "      <td>Edmundo</td>\n",
              "      <td>Sosa</td>\n",
              "    </tr>\n",
              "    <tr>\n",
              "      <th>2868186</th>\n",
              "      <td>NaN</td>\n",
              "      <td>605612</td>\n",
              "      <td>NaN</td>\n",
              "      <td>NaN</td>\n",
              "      <td>NaN</td>\n",
              "      <td>NaN</td>\n",
              "      <td>NaN</td>\n",
              "      <td>Harold</td>\n",
              "      <td>Castro</td>\n",
              "    </tr>\n",
              "    <tr>\n",
              "      <th>2868187</th>\n",
              "      <td>NaN</td>\n",
              "      <td>542932</td>\n",
              "      <td>NaN</td>\n",
              "      <td>NaN</td>\n",
              "      <td>NaN</td>\n",
              "      <td>NaN</td>\n",
              "      <td>NaN</td>\n",
              "      <td>Jon</td>\n",
              "      <td>Berti</td>\n",
              "    </tr>\n",
              "  </tbody>\n",
              "</table>\n",
              "<p>2868188 rows × 9 columns</p>\n",
              "</div>"
            ],
            "text/plain": [
              "                ab_id  pitcher_id stand  ...  pitch_type first_name last_name\n",
              "0        2.015000e+09      452657     L  ...          FF        Jon    Lester\n",
              "1        2.015000e+09      452657     L  ...          FF        Jon    Lester\n",
              "2        2.015000e+09      452657     L  ...          FF        Jon    Lester\n",
              "3        2.015000e+09      452657     L  ...          FF        Jon    Lester\n",
              "4        2.015000e+09      452657     L  ...          CU        Jon    Lester\n",
              "...               ...         ...   ...  ...         ...        ...       ...\n",
              "2868183           NaN      582473   NaN  ...         NaN    Sherman   Johnson\n",
              "2868184           NaN      664702   NaN  ...         NaN      Myles     Straw\n",
              "2868185           NaN      624641   NaN  ...         NaN    Edmundo      Sosa\n",
              "2868186           NaN      605612   NaN  ...         NaN     Harold    Castro\n",
              "2868187           NaN      542932   NaN  ...         NaN        Jon     Berti\n",
              "\n",
              "[2868188 rows x 9 columns]"
            ]
          },
          "metadata": {
            "tags": []
          },
          "execution_count": 87
        }
      ]
    },
    {
      "cell_type": "code",
      "metadata": {
        "id": "KQOwq3iA-oES",
        "colab_type": "code",
        "colab": {}
      },
      "source": [
        "# We also need to drop all pitches with a type\n",
        "# confidence under 2.0 to make sure which pitch was thrown\n",
        "# this will also drop the batters because they only have NaN values\n",
        "new_df3['Positive'] = new_df3['type_confidence']==2.000"
      ],
      "execution_count": 0,
      "outputs": []
    },
    {
      "cell_type": "code",
      "metadata": {
        "id": "85gXo_4h-tJB",
        "colab_type": "code",
        "colab": {
          "base_uri": "https://localhost:8080/",
          "height": 202
        },
        "outputId": "6ff5a3b1-d088-44b8-a014-30af0de1e206"
      },
      "source": [
        "# Double check\n",
        "new_df3.head()"
      ],
      "execution_count": 89,
      "outputs": [
        {
          "output_type": "execute_result",
          "data": {
            "text/html": [
              "<div>\n",
              "<style scoped>\n",
              "    .dataframe tbody tr th:only-of-type {\n",
              "        vertical-align: middle;\n",
              "    }\n",
              "\n",
              "    .dataframe tbody tr th {\n",
              "        vertical-align: top;\n",
              "    }\n",
              "\n",
              "    .dataframe thead th {\n",
              "        text-align: right;\n",
              "    }\n",
              "</style>\n",
              "<table border=\"1\" class=\"dataframe\">\n",
              "  <thead>\n",
              "    <tr style=\"text-align: right;\">\n",
              "      <th></th>\n",
              "      <th>ab_id</th>\n",
              "      <th>pitcher_id</th>\n",
              "      <th>stand</th>\n",
              "      <th>type_confidence</th>\n",
              "      <th>code</th>\n",
              "      <th>type</th>\n",
              "      <th>pitch_type</th>\n",
              "      <th>first_name</th>\n",
              "      <th>last_name</th>\n",
              "      <th>Positive</th>\n",
              "    </tr>\n",
              "  </thead>\n",
              "  <tbody>\n",
              "    <tr>\n",
              "      <th>0</th>\n",
              "      <td>2.015000e+09</td>\n",
              "      <td>452657</td>\n",
              "      <td>L</td>\n",
              "      <td>2.0</td>\n",
              "      <td>C</td>\n",
              "      <td>S</td>\n",
              "      <td>FF</td>\n",
              "      <td>Jon</td>\n",
              "      <td>Lester</td>\n",
              "      <td>True</td>\n",
              "    </tr>\n",
              "    <tr>\n",
              "      <th>1</th>\n",
              "      <td>2.015000e+09</td>\n",
              "      <td>452657</td>\n",
              "      <td>L</td>\n",
              "      <td>2.0</td>\n",
              "      <td>S</td>\n",
              "      <td>S</td>\n",
              "      <td>FF</td>\n",
              "      <td>Jon</td>\n",
              "      <td>Lester</td>\n",
              "      <td>True</td>\n",
              "    </tr>\n",
              "    <tr>\n",
              "      <th>2</th>\n",
              "      <td>2.015000e+09</td>\n",
              "      <td>452657</td>\n",
              "      <td>L</td>\n",
              "      <td>2.0</td>\n",
              "      <td>F</td>\n",
              "      <td>S</td>\n",
              "      <td>FF</td>\n",
              "      <td>Jon</td>\n",
              "      <td>Lester</td>\n",
              "      <td>True</td>\n",
              "    </tr>\n",
              "    <tr>\n",
              "      <th>3</th>\n",
              "      <td>2.015000e+09</td>\n",
              "      <td>452657</td>\n",
              "      <td>L</td>\n",
              "      <td>2.0</td>\n",
              "      <td>B</td>\n",
              "      <td>B</td>\n",
              "      <td>FF</td>\n",
              "      <td>Jon</td>\n",
              "      <td>Lester</td>\n",
              "      <td>True</td>\n",
              "    </tr>\n",
              "    <tr>\n",
              "      <th>4</th>\n",
              "      <td>2.015000e+09</td>\n",
              "      <td>452657</td>\n",
              "      <td>L</td>\n",
              "      <td>2.0</td>\n",
              "      <td>B</td>\n",
              "      <td>B</td>\n",
              "      <td>CU</td>\n",
              "      <td>Jon</td>\n",
              "      <td>Lester</td>\n",
              "      <td>True</td>\n",
              "    </tr>\n",
              "  </tbody>\n",
              "</table>\n",
              "</div>"
            ],
            "text/plain": [
              "          ab_id  pitcher_id stand  ...  first_name last_name Positive\n",
              "0  2.015000e+09      452657     L  ...         Jon    Lester     True\n",
              "1  2.015000e+09      452657     L  ...         Jon    Lester     True\n",
              "2  2.015000e+09      452657     L  ...         Jon    Lester     True\n",
              "3  2.015000e+09      452657     L  ...         Jon    Lester     True\n",
              "4  2.015000e+09      452657     L  ...         Jon    Lester     True\n",
              "\n",
              "[5 rows x 10 columns]"
            ]
          },
          "metadata": {
            "tags": []
          },
          "execution_count": 89
        }
      ]
    },
    {
      "cell_type": "code",
      "metadata": {
        "id": "RM4bqNYK-M3U",
        "colab_type": "code",
        "colab": {
          "base_uri": "https://localhost:8080/",
          "height": 225
        },
        "outputId": "9623c77f-05cb-48c5-e2f1-c7dc3a2343ba"
      },
      "source": [
        "# create a condition so we can check the value counts\n",
        "condition =  (new_df3['Positive'] == False)\n",
        "condition"
      ],
      "execution_count": 90,
      "outputs": [
        {
          "output_type": "execute_result",
          "data": {
            "text/plain": [
              "0          False\n",
              "1          False\n",
              "2          False\n",
              "3          False\n",
              "4          False\n",
              "           ...  \n",
              "2868183     True\n",
              "2868184     True\n",
              "2868185     True\n",
              "2868186     True\n",
              "2868187     True\n",
              "Name: Positive, Length: 2868188, dtype: bool"
            ]
          },
          "metadata": {
            "tags": []
          },
          "execution_count": 90
        }
      ]
    },
    {
      "cell_type": "code",
      "metadata": {
        "id": "OkJIxs-x_WSc",
        "colab_type": "code",
        "colab": {
          "base_uri": "https://localhost:8080/",
          "height": 69
        },
        "outputId": "dc7d888b-f9c9-47fd-b852-e6aab32e8225"
      },
      "source": [
        "# check the value counts\n",
        "condition.value_counts()"
      ],
      "execution_count": 91,
      "outputs": [
        {
          "output_type": "execute_result",
          "data": {
            "text/plain": [
              "False    1711162\n",
              "True     1157026\n",
              "Name: Positive, dtype: int64"
            ]
          },
          "metadata": {
            "tags": []
          },
          "execution_count": 91
        }
      ]
    },
    {
      "cell_type": "code",
      "metadata": {
        "id": "RKCrKabh_WOC",
        "colab_type": "code",
        "colab": {}
      },
      "source": [
        "# create a new dataframe without the batter ids\n",
        "# and without 100% certain pitch types\n",
        "new_df4 = new_df3.drop( new_df3[ new_df3['Positive'] == False ].index)"
      ],
      "execution_count": 0,
      "outputs": []
    },
    {
      "cell_type": "code",
      "metadata": {
        "id": "VvFXTbEC_WLH",
        "colab_type": "code",
        "colab": {
          "base_uri": "https://localhost:8080/",
          "height": 52
        },
        "outputId": "143d8634-ce65-4bb1-dec3-0aaad5eb0c99"
      },
      "source": [
        "# Double check\n",
        "new_df4['Positive'].value_counts()"
      ],
      "execution_count": 93,
      "outputs": [
        {
          "output_type": "execute_result",
          "data": {
            "text/plain": [
              "True    1711162\n",
              "Name: Positive, dtype: int64"
            ]
          },
          "metadata": {
            "tags": []
          },
          "execution_count": 93
        }
      ]
    },
    {
      "cell_type": "code",
      "metadata": {
        "id": "CQeMa0IH_WJn",
        "colab_type": "code",
        "colab": {
          "base_uri": "https://localhost:8080/",
          "height": 202
        },
        "outputId": "a54c1ebb-a83c-430c-8152-b7b85adf56fb"
      },
      "source": [
        "new_df4.head()"
      ],
      "execution_count": 94,
      "outputs": [
        {
          "output_type": "execute_result",
          "data": {
            "text/html": [
              "<div>\n",
              "<style scoped>\n",
              "    .dataframe tbody tr th:only-of-type {\n",
              "        vertical-align: middle;\n",
              "    }\n",
              "\n",
              "    .dataframe tbody tr th {\n",
              "        vertical-align: top;\n",
              "    }\n",
              "\n",
              "    .dataframe thead th {\n",
              "        text-align: right;\n",
              "    }\n",
              "</style>\n",
              "<table border=\"1\" class=\"dataframe\">\n",
              "  <thead>\n",
              "    <tr style=\"text-align: right;\">\n",
              "      <th></th>\n",
              "      <th>ab_id</th>\n",
              "      <th>pitcher_id</th>\n",
              "      <th>stand</th>\n",
              "      <th>type_confidence</th>\n",
              "      <th>code</th>\n",
              "      <th>type</th>\n",
              "      <th>pitch_type</th>\n",
              "      <th>first_name</th>\n",
              "      <th>last_name</th>\n",
              "      <th>Positive</th>\n",
              "    </tr>\n",
              "  </thead>\n",
              "  <tbody>\n",
              "    <tr>\n",
              "      <th>0</th>\n",
              "      <td>2.015000e+09</td>\n",
              "      <td>452657</td>\n",
              "      <td>L</td>\n",
              "      <td>2.0</td>\n",
              "      <td>C</td>\n",
              "      <td>S</td>\n",
              "      <td>FF</td>\n",
              "      <td>Jon</td>\n",
              "      <td>Lester</td>\n",
              "      <td>True</td>\n",
              "    </tr>\n",
              "    <tr>\n",
              "      <th>1</th>\n",
              "      <td>2.015000e+09</td>\n",
              "      <td>452657</td>\n",
              "      <td>L</td>\n",
              "      <td>2.0</td>\n",
              "      <td>S</td>\n",
              "      <td>S</td>\n",
              "      <td>FF</td>\n",
              "      <td>Jon</td>\n",
              "      <td>Lester</td>\n",
              "      <td>True</td>\n",
              "    </tr>\n",
              "    <tr>\n",
              "      <th>2</th>\n",
              "      <td>2.015000e+09</td>\n",
              "      <td>452657</td>\n",
              "      <td>L</td>\n",
              "      <td>2.0</td>\n",
              "      <td>F</td>\n",
              "      <td>S</td>\n",
              "      <td>FF</td>\n",
              "      <td>Jon</td>\n",
              "      <td>Lester</td>\n",
              "      <td>True</td>\n",
              "    </tr>\n",
              "    <tr>\n",
              "      <th>3</th>\n",
              "      <td>2.015000e+09</td>\n",
              "      <td>452657</td>\n",
              "      <td>L</td>\n",
              "      <td>2.0</td>\n",
              "      <td>B</td>\n",
              "      <td>B</td>\n",
              "      <td>FF</td>\n",
              "      <td>Jon</td>\n",
              "      <td>Lester</td>\n",
              "      <td>True</td>\n",
              "    </tr>\n",
              "    <tr>\n",
              "      <th>4</th>\n",
              "      <td>2.015000e+09</td>\n",
              "      <td>452657</td>\n",
              "      <td>L</td>\n",
              "      <td>2.0</td>\n",
              "      <td>B</td>\n",
              "      <td>B</td>\n",
              "      <td>CU</td>\n",
              "      <td>Jon</td>\n",
              "      <td>Lester</td>\n",
              "      <td>True</td>\n",
              "    </tr>\n",
              "  </tbody>\n",
              "</table>\n",
              "</div>"
            ],
            "text/plain": [
              "          ab_id  pitcher_id stand  ...  first_name last_name Positive\n",
              "0  2.015000e+09      452657     L  ...         Jon    Lester     True\n",
              "1  2.015000e+09      452657     L  ...         Jon    Lester     True\n",
              "2  2.015000e+09      452657     L  ...         Jon    Lester     True\n",
              "3  2.015000e+09      452657     L  ...         Jon    Lester     True\n",
              "4  2.015000e+09      452657     L  ...         Jon    Lester     True\n",
              "\n",
              "[5 rows x 10 columns]"
            ]
          },
          "metadata": {
            "tags": []
          },
          "execution_count": 94
        }
      ]
    },
    {
      "cell_type": "code",
      "metadata": {
        "id": "qnY1aM_q_WEg",
        "colab_type": "code",
        "colab": {}
      },
      "source": [
        "# The 'Positive' column is still there and\n",
        "# we no longer need it, drop it\n",
        "new_df5 = new_df4.drop(new_df4.columns[[9]], axis=1)"
      ],
      "execution_count": 0,
      "outputs": []
    },
    {
      "cell_type": "code",
      "metadata": {
        "id": "OElRE3jjBJX0",
        "colab_type": "code",
        "colab": {
          "base_uri": "https://localhost:8080/",
          "height": 202
        },
        "outputId": "9eae3622-e85f-493c-cd4a-d887f66e31a0"
      },
      "source": [
        "# Double check\n",
        "new_df5.head()"
      ],
      "execution_count": 96,
      "outputs": [
        {
          "output_type": "execute_result",
          "data": {
            "text/html": [
              "<div>\n",
              "<style scoped>\n",
              "    .dataframe tbody tr th:only-of-type {\n",
              "        vertical-align: middle;\n",
              "    }\n",
              "\n",
              "    .dataframe tbody tr th {\n",
              "        vertical-align: top;\n",
              "    }\n",
              "\n",
              "    .dataframe thead th {\n",
              "        text-align: right;\n",
              "    }\n",
              "</style>\n",
              "<table border=\"1\" class=\"dataframe\">\n",
              "  <thead>\n",
              "    <tr style=\"text-align: right;\">\n",
              "      <th></th>\n",
              "      <th>ab_id</th>\n",
              "      <th>pitcher_id</th>\n",
              "      <th>stand</th>\n",
              "      <th>type_confidence</th>\n",
              "      <th>code</th>\n",
              "      <th>type</th>\n",
              "      <th>pitch_type</th>\n",
              "      <th>first_name</th>\n",
              "      <th>last_name</th>\n",
              "    </tr>\n",
              "  </thead>\n",
              "  <tbody>\n",
              "    <tr>\n",
              "      <th>0</th>\n",
              "      <td>2.015000e+09</td>\n",
              "      <td>452657</td>\n",
              "      <td>L</td>\n",
              "      <td>2.0</td>\n",
              "      <td>C</td>\n",
              "      <td>S</td>\n",
              "      <td>FF</td>\n",
              "      <td>Jon</td>\n",
              "      <td>Lester</td>\n",
              "    </tr>\n",
              "    <tr>\n",
              "      <th>1</th>\n",
              "      <td>2.015000e+09</td>\n",
              "      <td>452657</td>\n",
              "      <td>L</td>\n",
              "      <td>2.0</td>\n",
              "      <td>S</td>\n",
              "      <td>S</td>\n",
              "      <td>FF</td>\n",
              "      <td>Jon</td>\n",
              "      <td>Lester</td>\n",
              "    </tr>\n",
              "    <tr>\n",
              "      <th>2</th>\n",
              "      <td>2.015000e+09</td>\n",
              "      <td>452657</td>\n",
              "      <td>L</td>\n",
              "      <td>2.0</td>\n",
              "      <td>F</td>\n",
              "      <td>S</td>\n",
              "      <td>FF</td>\n",
              "      <td>Jon</td>\n",
              "      <td>Lester</td>\n",
              "    </tr>\n",
              "    <tr>\n",
              "      <th>3</th>\n",
              "      <td>2.015000e+09</td>\n",
              "      <td>452657</td>\n",
              "      <td>L</td>\n",
              "      <td>2.0</td>\n",
              "      <td>B</td>\n",
              "      <td>B</td>\n",
              "      <td>FF</td>\n",
              "      <td>Jon</td>\n",
              "      <td>Lester</td>\n",
              "    </tr>\n",
              "    <tr>\n",
              "      <th>4</th>\n",
              "      <td>2.015000e+09</td>\n",
              "      <td>452657</td>\n",
              "      <td>L</td>\n",
              "      <td>2.0</td>\n",
              "      <td>B</td>\n",
              "      <td>B</td>\n",
              "      <td>CU</td>\n",
              "      <td>Jon</td>\n",
              "      <td>Lester</td>\n",
              "    </tr>\n",
              "  </tbody>\n",
              "</table>\n",
              "</div>"
            ],
            "text/plain": [
              "          ab_id  pitcher_id stand  ...  pitch_type first_name last_name\n",
              "0  2.015000e+09      452657     L  ...          FF        Jon    Lester\n",
              "1  2.015000e+09      452657     L  ...          FF        Jon    Lester\n",
              "2  2.015000e+09      452657     L  ...          FF        Jon    Lester\n",
              "3  2.015000e+09      452657     L  ...          FF        Jon    Lester\n",
              "4  2.015000e+09      452657     L  ...          CU        Jon    Lester\n",
              "\n",
              "[5 rows x 9 columns]"
            ]
          },
          "metadata": {
            "tags": []
          },
          "execution_count": 96
        }
      ]
    },
    {
      "cell_type": "code",
      "metadata": {
        "id": "AfxrDUaPBMZD",
        "colab_type": "code",
        "colab": {}
      },
      "source": [
        "# We likely won't use ab_id, drop it as well\n",
        "new_df6 = new_df5.drop(new_df5.columns[[0]], axis=1)"
      ],
      "execution_count": 0,
      "outputs": []
    },
    {
      "cell_type": "code",
      "metadata": {
        "id": "G0QiBa4OB1Dy",
        "colab_type": "code",
        "colab": {
          "base_uri": "https://localhost:8080/",
          "height": 202
        },
        "outputId": "87f18cad-9992-45f0-dceb-13554638c900"
      },
      "source": [
        "# Double check\n",
        "new_df6.head()"
      ],
      "execution_count": 98,
      "outputs": [
        {
          "output_type": "execute_result",
          "data": {
            "text/html": [
              "<div>\n",
              "<style scoped>\n",
              "    .dataframe tbody tr th:only-of-type {\n",
              "        vertical-align: middle;\n",
              "    }\n",
              "\n",
              "    .dataframe tbody tr th {\n",
              "        vertical-align: top;\n",
              "    }\n",
              "\n",
              "    .dataframe thead th {\n",
              "        text-align: right;\n",
              "    }\n",
              "</style>\n",
              "<table border=\"1\" class=\"dataframe\">\n",
              "  <thead>\n",
              "    <tr style=\"text-align: right;\">\n",
              "      <th></th>\n",
              "      <th>pitcher_id</th>\n",
              "      <th>stand</th>\n",
              "      <th>type_confidence</th>\n",
              "      <th>code</th>\n",
              "      <th>type</th>\n",
              "      <th>pitch_type</th>\n",
              "      <th>first_name</th>\n",
              "      <th>last_name</th>\n",
              "    </tr>\n",
              "  </thead>\n",
              "  <tbody>\n",
              "    <tr>\n",
              "      <th>0</th>\n",
              "      <td>452657</td>\n",
              "      <td>L</td>\n",
              "      <td>2.0</td>\n",
              "      <td>C</td>\n",
              "      <td>S</td>\n",
              "      <td>FF</td>\n",
              "      <td>Jon</td>\n",
              "      <td>Lester</td>\n",
              "    </tr>\n",
              "    <tr>\n",
              "      <th>1</th>\n",
              "      <td>452657</td>\n",
              "      <td>L</td>\n",
              "      <td>2.0</td>\n",
              "      <td>S</td>\n",
              "      <td>S</td>\n",
              "      <td>FF</td>\n",
              "      <td>Jon</td>\n",
              "      <td>Lester</td>\n",
              "    </tr>\n",
              "    <tr>\n",
              "      <th>2</th>\n",
              "      <td>452657</td>\n",
              "      <td>L</td>\n",
              "      <td>2.0</td>\n",
              "      <td>F</td>\n",
              "      <td>S</td>\n",
              "      <td>FF</td>\n",
              "      <td>Jon</td>\n",
              "      <td>Lester</td>\n",
              "    </tr>\n",
              "    <tr>\n",
              "      <th>3</th>\n",
              "      <td>452657</td>\n",
              "      <td>L</td>\n",
              "      <td>2.0</td>\n",
              "      <td>B</td>\n",
              "      <td>B</td>\n",
              "      <td>FF</td>\n",
              "      <td>Jon</td>\n",
              "      <td>Lester</td>\n",
              "    </tr>\n",
              "    <tr>\n",
              "      <th>4</th>\n",
              "      <td>452657</td>\n",
              "      <td>L</td>\n",
              "      <td>2.0</td>\n",
              "      <td>B</td>\n",
              "      <td>B</td>\n",
              "      <td>CU</td>\n",
              "      <td>Jon</td>\n",
              "      <td>Lester</td>\n",
              "    </tr>\n",
              "  </tbody>\n",
              "</table>\n",
              "</div>"
            ],
            "text/plain": [
              "   pitcher_id stand  type_confidence code type pitch_type first_name last_name\n",
              "0      452657     L              2.0    C    S         FF        Jon    Lester\n",
              "1      452657     L              2.0    S    S         FF        Jon    Lester\n",
              "2      452657     L              2.0    F    S         FF        Jon    Lester\n",
              "3      452657     L              2.0    B    B         FF        Jon    Lester\n",
              "4      452657     L              2.0    B    B         CU        Jon    Lester"
            ]
          },
          "metadata": {
            "tags": []
          },
          "execution_count": 98
        }
      ]
    },
    {
      "cell_type": "code",
      "metadata": {
        "id": "VdDt2FkqB8eU",
        "colab_type": "code",
        "colab": {}
      },
      "source": [
        "# this is final version of the dataframe we will use to answer our questions\n",
        "# make it easy and rename it\n",
        "final_df = new_df6"
      ],
      "execution_count": 0,
      "outputs": []
    },
    {
      "cell_type": "code",
      "metadata": {
        "id": "GZ-hI28gCLik",
        "colab_type": "code",
        "colab": {
          "base_uri": "https://localhost:8080/",
          "height": 202
        },
        "outputId": "a2c5b25b-bc0a-4efa-ca4a-5d51b7de383f"
      },
      "source": [
        "# Double check and make a copy\n",
        "fdf = final_df\n",
        "final_df.head()"
      ],
      "execution_count": 100,
      "outputs": [
        {
          "output_type": "execute_result",
          "data": {
            "text/html": [
              "<div>\n",
              "<style scoped>\n",
              "    .dataframe tbody tr th:only-of-type {\n",
              "        vertical-align: middle;\n",
              "    }\n",
              "\n",
              "    .dataframe tbody tr th {\n",
              "        vertical-align: top;\n",
              "    }\n",
              "\n",
              "    .dataframe thead th {\n",
              "        text-align: right;\n",
              "    }\n",
              "</style>\n",
              "<table border=\"1\" class=\"dataframe\">\n",
              "  <thead>\n",
              "    <tr style=\"text-align: right;\">\n",
              "      <th></th>\n",
              "      <th>pitcher_id</th>\n",
              "      <th>stand</th>\n",
              "      <th>type_confidence</th>\n",
              "      <th>code</th>\n",
              "      <th>type</th>\n",
              "      <th>pitch_type</th>\n",
              "      <th>first_name</th>\n",
              "      <th>last_name</th>\n",
              "    </tr>\n",
              "  </thead>\n",
              "  <tbody>\n",
              "    <tr>\n",
              "      <th>0</th>\n",
              "      <td>452657</td>\n",
              "      <td>L</td>\n",
              "      <td>2.0</td>\n",
              "      <td>C</td>\n",
              "      <td>S</td>\n",
              "      <td>FF</td>\n",
              "      <td>Jon</td>\n",
              "      <td>Lester</td>\n",
              "    </tr>\n",
              "    <tr>\n",
              "      <th>1</th>\n",
              "      <td>452657</td>\n",
              "      <td>L</td>\n",
              "      <td>2.0</td>\n",
              "      <td>S</td>\n",
              "      <td>S</td>\n",
              "      <td>FF</td>\n",
              "      <td>Jon</td>\n",
              "      <td>Lester</td>\n",
              "    </tr>\n",
              "    <tr>\n",
              "      <th>2</th>\n",
              "      <td>452657</td>\n",
              "      <td>L</td>\n",
              "      <td>2.0</td>\n",
              "      <td>F</td>\n",
              "      <td>S</td>\n",
              "      <td>FF</td>\n",
              "      <td>Jon</td>\n",
              "      <td>Lester</td>\n",
              "    </tr>\n",
              "    <tr>\n",
              "      <th>3</th>\n",
              "      <td>452657</td>\n",
              "      <td>L</td>\n",
              "      <td>2.0</td>\n",
              "      <td>B</td>\n",
              "      <td>B</td>\n",
              "      <td>FF</td>\n",
              "      <td>Jon</td>\n",
              "      <td>Lester</td>\n",
              "    </tr>\n",
              "    <tr>\n",
              "      <th>4</th>\n",
              "      <td>452657</td>\n",
              "      <td>L</td>\n",
              "      <td>2.0</td>\n",
              "      <td>B</td>\n",
              "      <td>B</td>\n",
              "      <td>CU</td>\n",
              "      <td>Jon</td>\n",
              "      <td>Lester</td>\n",
              "    </tr>\n",
              "  </tbody>\n",
              "</table>\n",
              "</div>"
            ],
            "text/plain": [
              "   pitcher_id stand  type_confidence code type pitch_type first_name last_name\n",
              "0      452657     L              2.0    C    S         FF        Jon    Lester\n",
              "1      452657     L              2.0    S    S         FF        Jon    Lester\n",
              "2      452657     L              2.0    F    S         FF        Jon    Lester\n",
              "3      452657     L              2.0    B    B         FF        Jon    Lester\n",
              "4      452657     L              2.0    B    B         CU        Jon    Lester"
            ]
          },
          "metadata": {
            "tags": []
          },
          "execution_count": 100
        }
      ]
    },
    {
      "cell_type": "code",
      "metadata": {
        "id": "Ipwy6WmMCOJ7",
        "colab_type": "code",
        "colab": {}
      },
      "source": [
        "# Our first question is who had the most swings and misses\n",
        "# the 'code' for that is 'S'"
      ],
      "execution_count": 0,
      "outputs": []
    },
    {
      "cell_type": "code",
      "metadata": {
        "id": "g-ibp9HpEeiJ",
        "colab_type": "code",
        "colab": {}
      },
      "source": [
        "# Create a boolean column for filtering\n",
        "fdf['right_types'] = fdf['type']== 'S'"
      ],
      "execution_count": 0,
      "outputs": []
    },
    {
      "cell_type": "code",
      "metadata": {
        "id": "HySgMF7-FFJd",
        "colab_type": "code",
        "colab": {
          "base_uri": "https://localhost:8080/",
          "height": 202
        },
        "outputId": "3cb05a99-fa7a-4946-fe26-c9e855037396"
      },
      "source": [
        "# Double check\n",
        "fdf.head()"
      ],
      "execution_count": 103,
      "outputs": [
        {
          "output_type": "execute_result",
          "data": {
            "text/html": [
              "<div>\n",
              "<style scoped>\n",
              "    .dataframe tbody tr th:only-of-type {\n",
              "        vertical-align: middle;\n",
              "    }\n",
              "\n",
              "    .dataframe tbody tr th {\n",
              "        vertical-align: top;\n",
              "    }\n",
              "\n",
              "    .dataframe thead th {\n",
              "        text-align: right;\n",
              "    }\n",
              "</style>\n",
              "<table border=\"1\" class=\"dataframe\">\n",
              "  <thead>\n",
              "    <tr style=\"text-align: right;\">\n",
              "      <th></th>\n",
              "      <th>pitcher_id</th>\n",
              "      <th>stand</th>\n",
              "      <th>type_confidence</th>\n",
              "      <th>code</th>\n",
              "      <th>type</th>\n",
              "      <th>pitch_type</th>\n",
              "      <th>first_name</th>\n",
              "      <th>last_name</th>\n",
              "      <th>right_types</th>\n",
              "    </tr>\n",
              "  </thead>\n",
              "  <tbody>\n",
              "    <tr>\n",
              "      <th>0</th>\n",
              "      <td>452657</td>\n",
              "      <td>L</td>\n",
              "      <td>2.0</td>\n",
              "      <td>C</td>\n",
              "      <td>S</td>\n",
              "      <td>FF</td>\n",
              "      <td>Jon</td>\n",
              "      <td>Lester</td>\n",
              "      <td>True</td>\n",
              "    </tr>\n",
              "    <tr>\n",
              "      <th>1</th>\n",
              "      <td>452657</td>\n",
              "      <td>L</td>\n",
              "      <td>2.0</td>\n",
              "      <td>S</td>\n",
              "      <td>S</td>\n",
              "      <td>FF</td>\n",
              "      <td>Jon</td>\n",
              "      <td>Lester</td>\n",
              "      <td>True</td>\n",
              "    </tr>\n",
              "    <tr>\n",
              "      <th>2</th>\n",
              "      <td>452657</td>\n",
              "      <td>L</td>\n",
              "      <td>2.0</td>\n",
              "      <td>F</td>\n",
              "      <td>S</td>\n",
              "      <td>FF</td>\n",
              "      <td>Jon</td>\n",
              "      <td>Lester</td>\n",
              "      <td>True</td>\n",
              "    </tr>\n",
              "    <tr>\n",
              "      <th>3</th>\n",
              "      <td>452657</td>\n",
              "      <td>L</td>\n",
              "      <td>2.0</td>\n",
              "      <td>B</td>\n",
              "      <td>B</td>\n",
              "      <td>FF</td>\n",
              "      <td>Jon</td>\n",
              "      <td>Lester</td>\n",
              "      <td>False</td>\n",
              "    </tr>\n",
              "    <tr>\n",
              "      <th>4</th>\n",
              "      <td>452657</td>\n",
              "      <td>L</td>\n",
              "      <td>2.0</td>\n",
              "      <td>B</td>\n",
              "      <td>B</td>\n",
              "      <td>CU</td>\n",
              "      <td>Jon</td>\n",
              "      <td>Lester</td>\n",
              "      <td>False</td>\n",
              "    </tr>\n",
              "  </tbody>\n",
              "</table>\n",
              "</div>"
            ],
            "text/plain": [
              "   pitcher_id stand  type_confidence  ... first_name last_name right_types\n",
              "0      452657     L              2.0  ...        Jon    Lester        True\n",
              "1      452657     L              2.0  ...        Jon    Lester        True\n",
              "2      452657     L              2.0  ...        Jon    Lester        True\n",
              "3      452657     L              2.0  ...        Jon    Lester       False\n",
              "4      452657     L              2.0  ...        Jon    Lester       False\n",
              "\n",
              "[5 rows x 9 columns]"
            ]
          },
          "metadata": {
            "tags": []
          },
          "execution_count": 103
        }
      ]
    },
    {
      "cell_type": "code",
      "metadata": {
        "id": "cYH8-rAkFGML",
        "colab_type": "code",
        "colab": {
          "base_uri": "https://localhost:8080/",
          "height": 69
        },
        "outputId": "983ae2a7-d027-4c9f-eb3c-f7b21e5631cc"
      },
      "source": [
        "# check the value counts\n",
        "fdf['right_types'].value_counts()"
      ],
      "execution_count": 104,
      "outputs": [
        {
          "output_type": "execute_result",
          "data": {
            "text/plain": [
              "False    923894\n",
              "True     787268\n",
              "Name: right_types, dtype: int64"
            ]
          },
          "metadata": {
            "tags": []
          },
          "execution_count": 104
        }
      ]
    },
    {
      "cell_type": "code",
      "metadata": {
        "id": "MvuhRr8KFF7F",
        "colab_type": "code",
        "colab": {}
      },
      "source": [
        "# drop the False columns\n",
        "fdf2 = fdf.drop( fdf[ fdf['right_types'] == False ].index)"
      ],
      "execution_count": 0,
      "outputs": []
    },
    {
      "cell_type": "code",
      "metadata": {
        "id": "xsI2sixyFF4-",
        "colab_type": "code",
        "colab": {
          "base_uri": "https://localhost:8080/",
          "height": 52
        },
        "outputId": "c50375f0-4438-4ff8-df9c-ebdfc954557d"
      },
      "source": [
        "# Double check\n",
        "fdf2['right_types'].value_counts()"
      ],
      "execution_count": 106,
      "outputs": [
        {
          "output_type": "execute_result",
          "data": {
            "text/plain": [
              "True    787268\n",
              "Name: right_types, dtype: int64"
            ]
          },
          "metadata": {
            "tags": []
          },
          "execution_count": 106
        }
      ]
    },
    {
      "cell_type": "code",
      "metadata": {
        "id": "TjhuZiVnFF2R",
        "colab_type": "code",
        "colab": {}
      },
      "source": [
        "# drop the now redundant column\n",
        "fdf3 = fdf2.drop(fdf2.columns[[8]], axis=1)"
      ],
      "execution_count": 0,
      "outputs": []
    },
    {
      "cell_type": "code",
      "metadata": {
        "id": "i7qZmHnUFFyT",
        "colab_type": "code",
        "colab": {
          "base_uri": "https://localhost:8080/",
          "height": 202
        },
        "outputId": "6f79ca08-e8aa-42b6-e3dd-5fbdab7ca38a"
      },
      "source": [
        "# Double check\n",
        "fdf3.head()"
      ],
      "execution_count": 108,
      "outputs": [
        {
          "output_type": "execute_result",
          "data": {
            "text/html": [
              "<div>\n",
              "<style scoped>\n",
              "    .dataframe tbody tr th:only-of-type {\n",
              "        vertical-align: middle;\n",
              "    }\n",
              "\n",
              "    .dataframe tbody tr th {\n",
              "        vertical-align: top;\n",
              "    }\n",
              "\n",
              "    .dataframe thead th {\n",
              "        text-align: right;\n",
              "    }\n",
              "</style>\n",
              "<table border=\"1\" class=\"dataframe\">\n",
              "  <thead>\n",
              "    <tr style=\"text-align: right;\">\n",
              "      <th></th>\n",
              "      <th>pitcher_id</th>\n",
              "      <th>stand</th>\n",
              "      <th>type_confidence</th>\n",
              "      <th>code</th>\n",
              "      <th>type</th>\n",
              "      <th>pitch_type</th>\n",
              "      <th>first_name</th>\n",
              "      <th>last_name</th>\n",
              "    </tr>\n",
              "  </thead>\n",
              "  <tbody>\n",
              "    <tr>\n",
              "      <th>0</th>\n",
              "      <td>452657</td>\n",
              "      <td>L</td>\n",
              "      <td>2.0</td>\n",
              "      <td>C</td>\n",
              "      <td>S</td>\n",
              "      <td>FF</td>\n",
              "      <td>Jon</td>\n",
              "      <td>Lester</td>\n",
              "    </tr>\n",
              "    <tr>\n",
              "      <th>1</th>\n",
              "      <td>452657</td>\n",
              "      <td>L</td>\n",
              "      <td>2.0</td>\n",
              "      <td>S</td>\n",
              "      <td>S</td>\n",
              "      <td>FF</td>\n",
              "      <td>Jon</td>\n",
              "      <td>Lester</td>\n",
              "    </tr>\n",
              "    <tr>\n",
              "      <th>2</th>\n",
              "      <td>452657</td>\n",
              "      <td>L</td>\n",
              "      <td>2.0</td>\n",
              "      <td>F</td>\n",
              "      <td>S</td>\n",
              "      <td>FF</td>\n",
              "      <td>Jon</td>\n",
              "      <td>Lester</td>\n",
              "    </tr>\n",
              "    <tr>\n",
              "      <th>11</th>\n",
              "      <td>452657</td>\n",
              "      <td>R</td>\n",
              "      <td>2.0</td>\n",
              "      <td>F</td>\n",
              "      <td>S</td>\n",
              "      <td>SI</td>\n",
              "      <td>Jon</td>\n",
              "      <td>Lester</td>\n",
              "    </tr>\n",
              "    <tr>\n",
              "      <th>12</th>\n",
              "      <td>452657</td>\n",
              "      <td>R</td>\n",
              "      <td>2.0</td>\n",
              "      <td>F</td>\n",
              "      <td>S</td>\n",
              "      <td>FF</td>\n",
              "      <td>Jon</td>\n",
              "      <td>Lester</td>\n",
              "    </tr>\n",
              "  </tbody>\n",
              "</table>\n",
              "</div>"
            ],
            "text/plain": [
              "    pitcher_id stand  type_confidence code type pitch_type first_name last_name\n",
              "0       452657     L              2.0    C    S         FF        Jon    Lester\n",
              "1       452657     L              2.0    S    S         FF        Jon    Lester\n",
              "2       452657     L              2.0    F    S         FF        Jon    Lester\n",
              "11      452657     R              2.0    F    S         SI        Jon    Lester\n",
              "12      452657     R              2.0    F    S         FF        Jon    Lester"
            ]
          },
          "metadata": {
            "tags": []
          },
          "execution_count": 108
        }
      ]
    },
    {
      "cell_type": "code",
      "metadata": {
        "id": "g7g2lPPHcDfI",
        "colab_type": "code",
        "colab": {}
      },
      "source": [
        "# combine the first_name and last_name columns\n",
        "fdf3['name'] = fdf3['first_name']+' '+fdf3['last_name']"
      ],
      "execution_count": 0,
      "outputs": []
    },
    {
      "cell_type": "code",
      "metadata": {
        "id": "_yF5-ALWcS8Q",
        "colab_type": "code",
        "colab": {
          "base_uri": "https://localhost:8080/",
          "height": 202
        },
        "outputId": "4eb1789a-e740-4964-9eda-7dd11ed88cdb"
      },
      "source": [
        "# double check\n",
        "fdf3.head()"
      ],
      "execution_count": 110,
      "outputs": [
        {
          "output_type": "execute_result",
          "data": {
            "text/html": [
              "<div>\n",
              "<style scoped>\n",
              "    .dataframe tbody tr th:only-of-type {\n",
              "        vertical-align: middle;\n",
              "    }\n",
              "\n",
              "    .dataframe tbody tr th {\n",
              "        vertical-align: top;\n",
              "    }\n",
              "\n",
              "    .dataframe thead th {\n",
              "        text-align: right;\n",
              "    }\n",
              "</style>\n",
              "<table border=\"1\" class=\"dataframe\">\n",
              "  <thead>\n",
              "    <tr style=\"text-align: right;\">\n",
              "      <th></th>\n",
              "      <th>pitcher_id</th>\n",
              "      <th>stand</th>\n",
              "      <th>type_confidence</th>\n",
              "      <th>code</th>\n",
              "      <th>type</th>\n",
              "      <th>pitch_type</th>\n",
              "      <th>first_name</th>\n",
              "      <th>last_name</th>\n",
              "      <th>name</th>\n",
              "    </tr>\n",
              "  </thead>\n",
              "  <tbody>\n",
              "    <tr>\n",
              "      <th>0</th>\n",
              "      <td>452657</td>\n",
              "      <td>L</td>\n",
              "      <td>2.0</td>\n",
              "      <td>C</td>\n",
              "      <td>S</td>\n",
              "      <td>FF</td>\n",
              "      <td>Jon</td>\n",
              "      <td>Lester</td>\n",
              "      <td>Jon Lester</td>\n",
              "    </tr>\n",
              "    <tr>\n",
              "      <th>1</th>\n",
              "      <td>452657</td>\n",
              "      <td>L</td>\n",
              "      <td>2.0</td>\n",
              "      <td>S</td>\n",
              "      <td>S</td>\n",
              "      <td>FF</td>\n",
              "      <td>Jon</td>\n",
              "      <td>Lester</td>\n",
              "      <td>Jon Lester</td>\n",
              "    </tr>\n",
              "    <tr>\n",
              "      <th>2</th>\n",
              "      <td>452657</td>\n",
              "      <td>L</td>\n",
              "      <td>2.0</td>\n",
              "      <td>F</td>\n",
              "      <td>S</td>\n",
              "      <td>FF</td>\n",
              "      <td>Jon</td>\n",
              "      <td>Lester</td>\n",
              "      <td>Jon Lester</td>\n",
              "    </tr>\n",
              "    <tr>\n",
              "      <th>11</th>\n",
              "      <td>452657</td>\n",
              "      <td>R</td>\n",
              "      <td>2.0</td>\n",
              "      <td>F</td>\n",
              "      <td>S</td>\n",
              "      <td>SI</td>\n",
              "      <td>Jon</td>\n",
              "      <td>Lester</td>\n",
              "      <td>Jon Lester</td>\n",
              "    </tr>\n",
              "    <tr>\n",
              "      <th>12</th>\n",
              "      <td>452657</td>\n",
              "      <td>R</td>\n",
              "      <td>2.0</td>\n",
              "      <td>F</td>\n",
              "      <td>S</td>\n",
              "      <td>FF</td>\n",
              "      <td>Jon</td>\n",
              "      <td>Lester</td>\n",
              "      <td>Jon Lester</td>\n",
              "    </tr>\n",
              "  </tbody>\n",
              "</table>\n",
              "</div>"
            ],
            "text/plain": [
              "    pitcher_id stand  type_confidence  ... first_name last_name        name\n",
              "0       452657     L              2.0  ...        Jon    Lester  Jon Lester\n",
              "1       452657     L              2.0  ...        Jon    Lester  Jon Lester\n",
              "2       452657     L              2.0  ...        Jon    Lester  Jon Lester\n",
              "11      452657     R              2.0  ...        Jon    Lester  Jon Lester\n",
              "12      452657     R              2.0  ...        Jon    Lester  Jon Lester\n",
              "\n",
              "[5 rows x 9 columns]"
            ]
          },
          "metadata": {
            "tags": []
          },
          "execution_count": 110
        }
      ]
    },
    {
      "cell_type": "code",
      "metadata": {
        "id": "pNMLRJBDczQS",
        "colab_type": "code",
        "colab": {}
      },
      "source": [
        "# delete redundant columns\n",
        "fdf4 = fdf3.drop(fdf3.columns[[0, 6,7]], axis=1)"
      ],
      "execution_count": 0,
      "outputs": []
    },
    {
      "cell_type": "code",
      "metadata": {
        "id": "V_MlwKxydJAv",
        "colab_type": "code",
        "colab": {
          "base_uri": "https://localhost:8080/",
          "height": 202
        },
        "outputId": "7afd21d2-0c56-42c5-dacc-615139a45e58"
      },
      "source": [
        "# Double check\n",
        "fdf4.head()"
      ],
      "execution_count": 112,
      "outputs": [
        {
          "output_type": "execute_result",
          "data": {
            "text/html": [
              "<div>\n",
              "<style scoped>\n",
              "    .dataframe tbody tr th:only-of-type {\n",
              "        vertical-align: middle;\n",
              "    }\n",
              "\n",
              "    .dataframe tbody tr th {\n",
              "        vertical-align: top;\n",
              "    }\n",
              "\n",
              "    .dataframe thead th {\n",
              "        text-align: right;\n",
              "    }\n",
              "</style>\n",
              "<table border=\"1\" class=\"dataframe\">\n",
              "  <thead>\n",
              "    <tr style=\"text-align: right;\">\n",
              "      <th></th>\n",
              "      <th>stand</th>\n",
              "      <th>type_confidence</th>\n",
              "      <th>code</th>\n",
              "      <th>type</th>\n",
              "      <th>pitch_type</th>\n",
              "      <th>name</th>\n",
              "    </tr>\n",
              "  </thead>\n",
              "  <tbody>\n",
              "    <tr>\n",
              "      <th>0</th>\n",
              "      <td>L</td>\n",
              "      <td>2.0</td>\n",
              "      <td>C</td>\n",
              "      <td>S</td>\n",
              "      <td>FF</td>\n",
              "      <td>Jon Lester</td>\n",
              "    </tr>\n",
              "    <tr>\n",
              "      <th>1</th>\n",
              "      <td>L</td>\n",
              "      <td>2.0</td>\n",
              "      <td>S</td>\n",
              "      <td>S</td>\n",
              "      <td>FF</td>\n",
              "      <td>Jon Lester</td>\n",
              "    </tr>\n",
              "    <tr>\n",
              "      <th>2</th>\n",
              "      <td>L</td>\n",
              "      <td>2.0</td>\n",
              "      <td>F</td>\n",
              "      <td>S</td>\n",
              "      <td>FF</td>\n",
              "      <td>Jon Lester</td>\n",
              "    </tr>\n",
              "    <tr>\n",
              "      <th>11</th>\n",
              "      <td>R</td>\n",
              "      <td>2.0</td>\n",
              "      <td>F</td>\n",
              "      <td>S</td>\n",
              "      <td>SI</td>\n",
              "      <td>Jon Lester</td>\n",
              "    </tr>\n",
              "    <tr>\n",
              "      <th>12</th>\n",
              "      <td>R</td>\n",
              "      <td>2.0</td>\n",
              "      <td>F</td>\n",
              "      <td>S</td>\n",
              "      <td>FF</td>\n",
              "      <td>Jon Lester</td>\n",
              "    </tr>\n",
              "  </tbody>\n",
              "</table>\n",
              "</div>"
            ],
            "text/plain": [
              "   stand  type_confidence code type pitch_type        name\n",
              "0      L              2.0    C    S         FF  Jon Lester\n",
              "1      L              2.0    S    S         FF  Jon Lester\n",
              "2      L              2.0    F    S         FF  Jon Lester\n",
              "11     R              2.0    F    S         SI  Jon Lester\n",
              "12     R              2.0    F    S         FF  Jon Lester"
            ]
          },
          "metadata": {
            "tags": []
          },
          "execution_count": 112
        }
      ]
    },
    {
      "cell_type": "code",
      "metadata": {
        "id": "sK4NgrwyFFsV",
        "colab_type": "code",
        "colab": {
          "base_uri": "https://localhost:8080/",
          "height": 225
        },
        "outputId": "4a20b35c-322b-46d6-e068-fed9b7d49d9b"
      },
      "source": [
        "# See which pitcher through the most whiffs\n",
        "fdf4['name'].value_counts()"
      ],
      "execution_count": 113,
      "outputs": [
        {
          "output_type": "execute_result",
          "data": {
            "text/plain": [
              "Justin Verlander    5083\n",
              "Masahiro Tanaka     4820\n",
              "Gerrit Cole         4677\n",
              "Carlos Martinez     4318\n",
              "Chris Archer        4202\n",
              "                    ... \n",
              "Hernan Perez           4\n",
              "Carlos Gomez           3\n",
              "Osmer Morales          3\n",
              "Ryan LaMarre           1\n",
              "Neal Cotts             1\n",
              "Name: name, Length: 1175, dtype: int64"
            ]
          },
          "metadata": {
            "tags": []
          },
          "execution_count": 113
        }
      ]
    },
    {
      "cell_type": "code",
      "metadata": {
        "id": "rlZWTXG8d0O6",
        "colab_type": "code",
        "colab": {}
      },
      "source": [
        "# import the graph set you need\n",
        "import seaborn as sns"
      ],
      "execution_count": 0,
      "outputs": []
    },
    {
      "cell_type": "code",
      "metadata": {
        "id": "ICveH5D2Aj8r",
        "colab_type": "code",
        "colab": {
          "base_uri": "https://localhost:8080/",
          "height": 353
        },
        "outputId": "18399fcf-1bbe-48d6-b62f-2bdab19c5d9b"
      },
      "source": [
        "# graph the data\n",
        "whiff_count  = fdf4['name'].value_counts()\n",
        "whiff_count = whiff_count[:5,]\n",
        "plt.figure(figsize=(10,5))\n",
        "sns.barplot(whiff_count.index, whiff_count.values, alpha=0.8)\n",
        "plt.title('Pitchers With the Most Whiffed Pitches')\n",
        "plt.ylabel('Number of Occurrences', fontsize=12)\n",
        "plt.xlabel('pitcher', fontsize=12)\n",
        "plt.show()"
      ],
      "execution_count": 115,
      "outputs": [
        {
          "output_type": "display_data",
          "data": {
            "image/png": "[encoded data removed]",
            "text/plain": [
              "<Figure size 720x360 with 1 Axes>"
            ]
          },
          "metadata": {
            "tags": []
          }
        }
      ]
    },
    {
      "cell_type": "code",
      "metadata": {
        "id": "8u577w63HWse",
        "colab_type": "code",
        "colab": {
          "base_uri": "https://localhost:8080/",
          "height": 336
        },
        "outputId": "188b38ad-2128-4b00-fe9e-1ba5887aa70a"
      },
      "source": [
        "# Quick compare to the rest of the league\n",
        "whiff_count  = fdf4['name'].value_counts()\n",
        "whiff_count = whiff_count[:130,]\n",
        "plt.figure(figsize=(10,5))\n",
        "sns.barplot(whiff_count.index, whiff_count.values, alpha=0.8)\n",
        "plt.title('Whiffs per Pitcher')\n",
        "plt.ylabel('Number of Occurrences', fontsize=12)\n",
        "plt.xlabel('', fontsize=1)\n",
        "plt.xticks()\n",
        "plt.show()"
      ],
      "execution_count": 136,
      "outputs": [
        {
          "output_type": "display_data",
          "data": {
            "image/png": "[encoded data removed]",
            "text/plain": [
              "<Figure size 720x360 with 1 Axes>"
            ]
          },
          "metadata": {
            "tags": []
          }
        }
      ]
    },
    {
      "cell_type": "code",
      "metadata": {
        "id": "p3cNREqgLMz9",
        "colab_type": "code",
        "colab": {
          "base_uri": "https://localhost:8080/",
          "height": 277
        },
        "outputId": "69532663-7121-4122-8642-734794edb40b"
      },
      "source": [
        "# This shows us how many of each pitch type was whiffed\n",
        "fdf4['pitch_type'].value_counts()"
      ],
      "execution_count": 117,
      "outputs": [
        {
          "output_type": "execute_result",
          "data": {
            "text/plain": [
              "FF    293290\n",
              "SL    130949\n",
              "FT     84334\n",
              "CH     74456\n",
              "SI     64291\n",
              "CU     63936\n",
              "FC     41945\n",
              "KC     19945\n",
              "FS     11649\n",
              "KN      1930\n",
              "FO       260\n",
              "EP       242\n",
              "SC        36\n",
              "FA         5\n",
              "Name: pitch_type, dtype: int64"
            ]
          },
          "metadata": {
            "tags": []
          },
          "execution_count": 117
        }
      ]
    },
    {
      "cell_type": "code",
      "metadata": {
        "id": "RHc2-Z8PNjl2",
        "colab_type": "code",
        "colab": {
          "base_uri": "https://localhost:8080/",
          "height": 277
        },
        "outputId": "b691db71-8ac6-45bf-bdcc-0e1cf1b5e5f6"
      },
      "source": [
        "# This shows us how many of each pitch type were thrown\n",
        "new_df5['pitch_type'].value_counts()"
      ],
      "execution_count": 120,
      "outputs": [
        {
          "output_type": "execute_result",
          "data": {
            "text/plain": [
              "FF    606112\n",
              "SL    277710\n",
              "FT    196214\n",
              "CH    178303\n",
              "SI    144170\n",
              "CU    142711\n",
              "FC     90826\n",
              "KC     42443\n",
              "FS     26912\n",
              "KN      4464\n",
              "EP       612\n",
              "FO       585\n",
              "SC        91\n",
              "FA         9\n",
              "Name: pitch_type, dtype: int64"
            ]
          },
          "metadata": {
            "tags": []
          },
          "execution_count": 120
        }
      ]
    },
    {
      "cell_type": "code",
      "metadata": {
        "id": "JSHXaMdFxDLS",
        "colab_type": "code",
        "colab": {}
      },
      "source": [
        "from matplotlib.pyplot import pie, axis, show"
      ],
      "execution_count": 0,
      "outputs": []
    },
    {
      "cell_type": "code",
      "metadata": {
        "id": "IJDBKN1qy1XF",
        "colab_type": "code",
        "colab": {}
      },
      "source": [
        "# Prepare the data for the graph\n",
        "df = pd.DataFrame({\n",
        "    'Pitch_Type': ['Fastball', 'Slider', 'Changeup', 'Sinker', 'Curveball', 'Knuckle/ Knuckle Curve' ],\n",
        "    'Whiffs': [293290, 130949, 74456, 14470, 64291, 21875]})"
      ],
      "execution_count": 0,
      "outputs": []
    },
    {
      "cell_type": "code",
      "metadata": {
        "id": "GCEGi-m2ziuV",
        "colab_type": "code",
        "colab": {
          "base_uri": "https://localhost:8080/",
          "height": 264
        },
        "outputId": "e4424509-c901-41f8-ff8e-8440eaf683c7"
      },
      "source": [
        "# Graph the data\n",
        "sums = df.Whiffs.groupby(df.Pitch_Type).sum()\n",
        "plt.title('Percent of Pitches Whiffed')\n",
        "axis('equal');\n",
        "pie(sums, labels=sums.index);\n",
        "show()"
      ],
      "execution_count": 123,
      "outputs": [
        {
          "output_type": "display_data",
          "data": {
            "image/png": "[encoded data removed]",
            "text/plain": [
              "<Figure size 432x288 with 1 Axes>"
            ]
          },
          "metadata": {
            "tags": []
          }
        }
      ]
    },
    {
      "cell_type": "code",
      "metadata": {
        "id": "FL0BiyG4CzWV",
        "colab_type": "code",
        "colab": {}
      },
      "source": [
        "# Prepare the data for the graph\n",
        "df_pitch_totals = pd.DataFrame({\n",
        "    'Pitch_Type': ['Fastball', 'Slider', 'Changeup', 'Sinker', 'Curveball', 'Knuckle/ Knuckle Curve' ],\n",
        "    'Whiffs': [606112, 277710, 178303, 144170, 142711, 47017]})"
      ],
      "execution_count": 0,
      "outputs": []
    },
    {
      "cell_type": "code",
      "metadata": {
        "id": "G5-e5SukDkhk",
        "colab_type": "code",
        "colab": {
          "base_uri": "https://localhost:8080/",
          "height": 264
        },
        "outputId": "c2c1f018-1744-4027-dcda-c1a9630be9f4"
      },
      "source": [
        "#Graph the data\n",
        "sums = df_pitch_totals.Whiffs.groupby(df_pitch_totals.Pitch_Type).sum()\n",
        "plt.title('Percent of Pitches Thrown')\n",
        "axis('equal');\n",
        "pie(sums, labels=sums.index);\n",
        "show()"
      ],
      "execution_count": 125,
      "outputs": [
        {
          "output_type": "display_data",
          "data": {
            "image/png": "[encoded data removed]",
            "text/plain": [
              "<Figure size 432x288 with 1 Axes>"
            ]
          },
          "metadata": {
            "tags": []
          }
        }
      ]
    },
    {
      "cell_type": "code",
      "metadata": {
        "id": "twFU4kSjuvJy",
        "colab_type": "code",
        "colab": {}
      },
      "source": [
        "# Prepare the data for a bar graph\n",
        "x_values =['Fastball', 'Slider', 'Changeup', 'Sinker', 'Curveball', 'Knuckle/ Knuckle Curve' ]\n",
        "y_values = [(293290/606112)*10, (130949/277710)*10, (74456/178303)*10, (14470/144170)*10, (64291/142711)*10, (21875/47017)*10]"
      ],
      "execution_count": 0,
      "outputs": []
    },
    {
      "cell_type": "code",
      "metadata": {
        "id": "O_TVtKo9u9SR",
        "colab_type": "code",
        "colab": {
          "base_uri": "https://localhost:8080/",
          "height": 461
        },
        "outputId": "1b4ce3f0-8441-4fdd-cc60-d50e68fe05c7"
      },
      "source": [
        "# Graph the data\n",
        "whiff_count  = df_pitch_type_whiffs['Whiffs']\n",
        "whiff_count = whiff_count[:6,]\n",
        "plt.figure(figsize=(10,7))\n",
        "sns.barplot( x=x_values, y=y_values, alpha=0.8)\n",
        "plt.title('Percent of Total Pitches Whiffed')\n",
        "plt.ylabel('Percent Whiffed', fontsize=12)\n",
        "plt.xlabel('Pitch Type', fontsize=12)\n",
        "plt.yticks(np.arange(0, 10, step=1))\n",
        "plt.show()"
      ],
      "execution_count": 133,
      "outputs": [
        {
          "output_type": "display_data",
          "data": {
            "image/png": "[encoded data removed]",
            "text/plain": [
              "<Figure size 720x504 with 1 Axes>"
            ]
          },
          "metadata": {
            "tags": []
          }
        }
      ]
    }
  ]
}